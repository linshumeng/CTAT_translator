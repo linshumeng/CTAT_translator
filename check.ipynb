{
 "cells": [
  {
   "cell_type": "code",
   "execution_count": 1,
   "metadata": {},
   "outputs": [],
   "source": [
    "import xml.etree.ElementTree as ET\n",
    "import glob\n",
    "from tqdm import tqdm"
   ]
  },
  {
   "cell_type": "code",
   "execution_count": 2,
   "metadata": {},
   "outputs": [],
   "source": [
    "def check(old_brd, new_brd):\n",
    "    old = ET.parse(old_brd)\n",
    "    new = ET.parse(new_brd)\n",
    "    set_old = set(old.getroot().itertext())\n",
    "    set_new = set(new.getroot().itertext())\n",
    "    if set_old == set_new:\n",
    "        print(\"True\", old_brd)\n",
    "    else:\n",
    "        print(\"False\", old_brd)\n",
    "    return set_old, set_new"
   ]
  },
  {
   "cell_type": "code",
   "execution_count": 3,
   "metadata": {},
   "outputs": [
    {
     "name": "stderr",
     "output_type": "stream",
     "text": [
      " 12%|█▎        | 3/24 [00:00<00:00, 28.11it/s]"
     ]
    },
    {
     "name": "stdout",
     "output_type": "stream",
     "text": [
      "True ./HTML_folder/7.17 HTML/7.17 HTML/FinalBRDs\\IntroProblem.brd\n",
      "True ./HTML_folder/7.17 HTML/7.17 HTML/FinalBRDs\\Problem1.brd\n",
      "True ./HTML_folder/7.17 HTML/7.17 HTML/FinalBRDs\\Problem2.brd\n",
      "True ./HTML_folder/7.17 HTML/7.17 HTML/FinalBRDs\\Problem3.brd\n",
      "True ./HTML_folder/7.17 HTML/7.17 HTML/FinalBRDs\\Problem5.brd\n",
      "True ./HTML_folder/7.17 HTML/7.17 HTML/FinalBRDs\\Problem6.brd\n",
      "True ./HTML_folder/7.17 HTML/7.17 HTML/FinalBRDs\\Problem7.brd\n"
     ]
    },
    {
     "name": "stderr",
     "output_type": "stream",
     "text": [
      " 50%|█████     | 12/24 [00:00<00:00, 31.73it/s]"
     ]
    },
    {
     "name": "stdout",
     "output_type": "stream",
     "text": [
      "True ./HTML_folder/7.17 HTML/7.17 HTML/FinalBRDs\\Problem9.brd\n",
      "True ./HTML_folder/7.17 HTML/7.17 HTML/FinalBRDs\\Problem10.brd\n",
      "True ./HTML_folder/7.17 HTML/7.17 HTML/FinalBRDs\\Problem11.brd\n",
      "True ./HTML_folder/7.17 HTML/7.17 HTML/FinalBRDs\\Problem12.brd\n",
      "True ./HTML_folder/7.17 HTML/7.17 HTML/FinalBRDs\\Problem13.brd\n",
      "True ./HTML_folder/7.17 HTML/7.17 HTML/FinalBRDs\\Problem14.brd\n",
      "True ./HTML_folder/7.17 HTML/7.17 HTML/FinalBRDs\\Problem15.brd\n",
      "True ./HTML_folder/7.17 HTML/7.17 HTML/FinalBRDs\\Problem16.brd\n"
     ]
    },
    {
     "name": "stderr",
     "output_type": "stream",
     "text": [
      " 67%|██████▋   | 16/24 [00:00<00:00, 32.57it/s]"
     ]
    },
    {
     "name": "stdout",
     "output_type": "stream",
     "text": [
      "True ./HTML_folder/7.17 HTML/7.17 HTML/FinalBRDs\\Problem17.brd\n",
      "True ./HTML_folder/7.17 HTML/7.17 HTML/FinalBRDs\\Problem18.brd\n",
      "True ./HTML_folder/7.17 HTML/7.17 HTML/FinalBRDs\\Problem19.brd\n",
      "True ./HTML_folder/7.17 HTML/7.17 HTML/FinalBRDs\\Problem20.brd\n"
     ]
    },
    {
     "name": "stderr",
     "output_type": "stream",
     "text": [
      "100%|██████████| 24/24 [00:00<00:00, 29.49it/s]"
     ]
    },
    {
     "name": "stdout",
     "output_type": "stream",
     "text": [
      "True ./HTML_folder/7.17 HTML/7.17 HTML/FinalBRDs\\Problem21.brd\n",
      "True ./HTML_folder/7.17 HTML/7.17 HTML/FinalBRDs\\Problem22.brd\n",
      "True ./HTML_folder/7.17 HTML/7.17 HTML/FinalBRDs\\Problem23.brd\n",
      "True ./HTML_folder/7.17 HTML/7.17 HTML/FinalBRDs\\Problem24.brd\n",
      "True ./HTML_folder/7.17 HTML/7.17 HTML/FinalBRDs\\Problem8.brd\n"
     ]
    },
    {
     "name": "stderr",
     "output_type": "stream",
     "text": [
      "\n"
     ]
    }
   ],
   "source": [
    "fs_brd = glob.glob(\"./HTML_folder/7.17 HTML/7.17 HTML/FinalBRDs/*\")\n",
    "for old_brd in tqdm(fs_brd):\n",
    "    new_brd = old_brd.replace('HTML_folder', 'Output_final_brd_folder')\n",
    "    # print(old_brd, new_brd)\n",
    "    check(old_brd, new_brd)"
   ]
  },
  {
   "cell_type": "code",
   "execution_count": 4,
   "metadata": {},
   "outputs": [
    {
     "name": "stdout",
     "output_type": "stream",
     "text": [
      "True ./HTML_folder/7.17 HTML/7.17 HTML/FinalBRDs\\Problem23.brd\n"
     ]
    },
    {
     "data": {
      "text/plain": [
       "set()"
      ]
     },
     "execution_count": 4,
     "metadata": {},
     "output_type": "execute_result"
    }
   ],
   "source": [
    "old, new = check(\"./HTML_folder/7.17 HTML/7.17 HTML/FinalBRDs\\Problem23.brd\",\n",
    "                 \"./Output_final_brd_folder/7.17 HTML/7.17 HTML/FinalBRDs\\Problem23.brd\")\n",
    "\n",
    "old\n",
    "new\n",
    "\n",
    "diff = old.difference(new)\n",
    "diff"
   ]
  }
 ],
 "metadata": {
  "kernelspec": {
   "display_name": "CTAT",
   "language": "python",
   "name": "python3"
  },
  "language_info": {
   "codemirror_mode": {
    "name": "ipython",
    "version": 3
   },
   "file_extension": ".py",
   "mimetype": "text/x-python",
   "name": "python",
   "nbconvert_exporter": "python",
   "pygments_lexer": "ipython3",
   "version": "3.10.8"
  },
  "orig_nbformat": 4,
  "vscode": {
   "interpreter": {
    "hash": "d5cbd4e664087b96353283f4ff050485ff797d3250d76f0a980158f1bcc99c02"
   }
  }
 },
 "nbformat": 4,
 "nbformat_minor": 2
}
