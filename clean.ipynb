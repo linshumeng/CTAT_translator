{
 "cells": [
  {
   "cell_type": "code",
   "execution_count": 27,
   "metadata": {},
   "outputs": [],
   "source": [
    "import xml.etree.ElementTree as ET\n",
    "import re\n",
    "from nltk.corpus import stopwords\n",
    "import pandas as pd\n",
    "# from bs4 import BeautifulSoup\n",
    "# from tqdm import tqdm\n",
    "# import glob\n",
    "# import json\n",
    "# import translators.server as tss\n",
    "\n",
    "STOPWORDS = stopwords.words('english')"
   ]
  },
  {
   "cell_type": "code",
   "execution_count": 28,
   "metadata": {},
   "outputs": [],
   "source": [
    "# create name for variable\n",
    "def clean_name(s, convert_to_lower=True):\n",
    "    s = re.sub('<[^<]+?>', '', s) # markup\n",
    "    s = re.sub('[^0-9a-zA-Z_\\s]', '', s) # keep alnum\n",
    "    s = re.sub('\\t\\n\\r', '', s) # remove tab, line break, carriage return\n",
    "    s = ' '.join(s.split()) # remove redundant whitespace\n",
    "    return s.lower() if convert_to_lower else s\n",
    "\n",
    "# remove unnecessary part in value\n",
    "def clean_phrase(s, convert_to_lower=False):\n",
    "    if(s is None or s == ''):\n",
    "        return None\n",
    "    s = re.sub('\\t\\n\\r', '', s) # remove tab, line break, carriage return\n",
    "    s = ' '.join(s.split()) # remove redundant whitespace\n",
    "    return s.lower() if convert_to_lower else s"
   ]
  },
  {
   "cell_type": "code",
   "execution_count": 29,
   "metadata": {},
   "outputs": [],
   "source": [
    "# create variable\n",
    "def make_var(phrase, signature='_', keep_n_words=4):\n",
    "    if (phrase is None or phrase == ''):\n",
    "        return ''\n",
    "    the_clean_phrase = clean_phrase(phrase) \n",
    "    # print(the_clean_phrase)\n",
    "    if the_clean_phrase in var_phrase_map: # if the variable in var_phrase_map\n",
    "        return var_phrase_map[the_clean_phrase]\n",
    "    else:\n",
    "        h = signature + '_' + '_'.join([word for word in clean_name(phrase).split(' ') if word not in STOPWORDS][:keep_n_words])\n",
    "        v = '%(' + str(h) + ')%' # create variable name\n",
    "        var_phrase_map[the_clean_phrase] = v # dict key: variable value, dict value: variable name\n",
    "        return v\n",
    "\n",
    "# change variable name\n",
    "def change_var(old_name, signature='_', keep_n_words=4):\n",
    "    if old_name in var_name_map:\n",
    "        return var_name_map[old_name]\n",
    "    else:\n",
    "        phrase = table_new.loc[old_name].iloc[0] # find the pharse in the mass production table\n",
    "        if (old_name is None or old_name == '' or pd.isnull(phrase)):\n",
    "            return ''\n",
    "        the_clean_phrase = clean_phrase(phrase) \n",
    "        h = signature + '_' + '_'.join([word for word in clean_name(phrase).split(' ') if word not in STOPWORDS][:keep_n_words])\n",
    "        v = '%(' + str(h) + ')%'\n",
    "        var_name_map[old_name] = v\n",
    "        table_new.rename(index={old_name:v}, inplace=True) # dict key: variable value, dict value: variable name\n",
    "        return v"
   ]
  },
  {
   "cell_type": "code",
   "execution_count": 30,
   "metadata": {},
   "outputs": [],
   "source": [
    "# find hash\n",
    "def find_hash(s):\n",
    "    if(s is None or s == ''):\n",
    "        return False\n",
    "    # replace \"%(\" and \"%)\" to detect whether the variable name is a hash-like\n",
    "    s = re.sub('%\\(', '', s) # \"\\\" is for re\n",
    "    s = re.sub('\\)%', '', s)\n",
    "    return s.lstrip('-').isdigit()"
   ]
  },
  {
   "cell_type": "code",
   "execution_count": 31,
   "metadata": {},
   "outputs": [],
   "source": [
    "# process txt\n",
    "def process_txt(txt, element, tag, count):\n",
    "    # print(table_new_index_list)\n",
    "    # if txt is empty\n",
    "    if clean_phrase(txt) is None or clean_phrase(txt) == '':\n",
    "        return\n",
    "    # elif txt is already in the mass production table and it is not a hash-like\n",
    "    elif txt in table_new_index_list and find_hash(txt) is False:\n",
    "        return\n",
    "    # elif txt is already in the mass production table and it is a hash-like\n",
    "    elif txt in table_new_index_list and find_hash(txt) is True:\n",
    "        # print(txt)\n",
    "        if tag == 'Input':\n",
    "            element[0].text = change_var(txt, signature=tag+'_'+str(count))\n",
    "        else:\n",
    "            element.text = change_var(txt, signature=tag+'_'+str(count))\n",
    "        return\n",
    "    # else create a variable name for the value\n",
    "    else:\n",
    "        # print(txt)\n",
    "        # print(txt in table_new_index_list, find_hash(txt))\n",
    "        if tag == 'Input':\n",
    "            element[0].text = make_var(txt, signature=tag+'_'+str(count))\n",
    "        else:\n",
    "            element.text = make_var(txt, signature=tag+'_'+str(count))\n",
    "        return "
   ]
  },
  {
   "cell_type": "code",
   "execution_count": 32,
   "metadata": {},
   "outputs": [],
   "source": [
    "# replace pharse with variable\n",
    "def iterate_generic(tag: str, root):\n",
    "    \"\"\"txt should be %% type or a pharse\"\"\"\n",
    "    count = 1\n",
    "    for element in root.iter(tag):\n",
    "        # print(tag)\n",
    "        if tag == 'Input' and element[0].tag == 'value': # find input value\n",
    "            txt = element[0].text\n",
    "            process_txt(txt, element, tag, count)\n",
    "        else:\n",
    "            txt = element.text\n",
    "            process_txt(txt, element, tag, count)\n",
    "        count += 1"
   ]
  },
  {
   "cell_type": "code",
   "execution_count": 33,
   "metadata": {},
   "outputs": [],
   "source": [
    "# read the tags and call all functions above\n",
    "def process_file(infile_brd, infile_table, outfile_brd, outfile_table):\n",
    "    tree = ET.parse(infile_brd)\n",
    "    print(\"mass production brd input read\")\n",
    "    print(\"path: \" + infile_brd)\n",
    "    root = tree.getroot()\n",
    "    global var_phrase_map; var_phrase_map = dict()\n",
    "    global var_name_map; var_name_map = dict()\n",
    "\n",
    "    global table_new; table_new = pd.read_csv(infile_table, sep=\"\\t\", index_col=0, keep_default_na=False)\n",
    "    global table_new_index_list; table_new_index_list = table_new.index.tolist()\n",
    "    print(\"mass production table input read\")\n",
    "    print(\"path: \" + infile_table)\n",
    "\n",
    "    tags = ['hintMessage', 'successMessage', 'buggyMessage', 'label', 'Input']\n",
    "    for tag in tags:\n",
    "        iterate_generic(tag, root)\n",
    "\n",
    "    # create new dataframe and concat it with the latest mass production table\n",
    "    df_new = pd.DataFrame(var_phrase_map.keys(), index = list(var_phrase_map.values()))\n",
    "    df_dup = pd.concat([df_new.T]*len(table_new.columns)).T\n",
    "    df_dup.columns = table_new.columns\n",
    "    df_mix = pd.concat([table_new, df_dup])\n",
    "    df_mix.index.name = table_new.index.name\n",
    "\n",
    "    # export the csv\n",
    "    df_mix.to_csv(outfile_table, encoding=\"utf-8\", sep=\"\\t\")\n",
    "    print(\"mass production table output finished\")\n",
    "    print(\"path: \" + outfile_table)\n",
    "\n",
    "    # export the brd\n",
    "    tree.write(outfile_brd)\n",
    "    print(\"mass production brd output finished\")\n",
    "    print(\"path: \" + outfile_table)\n",
    "\n",
    "    return table_new, df_mix"
   ]
  },
  {
   "cell_type": "code",
   "execution_count": 34,
   "metadata": {},
   "outputs": [
    {
     "name": "stdout",
     "output_type": "stream",
     "text": [
      "mass production brd input read\n",
      "path: ./HTML_folder/6.10 HTML/6.10 HTML/MassProduction/finalTemplateNew.brd\n",
      "mass production table input read\n",
      "path: ./HTML_folder/6.10 HTML/6.10 HTML/MassProduction/finalMassProdtable.txt\n"
     ]
    },
    {
     "ename": "ValueError",
     "evalue": "Length mismatch: Expected axis has 0 elements, new values have 8 elements",
     "output_type": "error",
     "traceback": [
      "\u001b[1;31m---------------------------------------------------------------------------\u001b[0m",
      "\u001b[1;31mValueError\u001b[0m                                Traceback (most recent call last)",
      "Cell \u001b[1;32mIn[34], line 22\u001b[0m\n\u001b[0;32m     12\u001b[0m outfile_table \u001b[39m=\u001b[39m \u001b[39m\"\u001b[39m\u001b[39m./Output_cleaned_folder/6.10 HTML/6.10 HTML/MassProduction/finalMassProdtable_cleaned.txt\u001b[39m\u001b[39m\"\u001b[39m\n\u001b[0;32m     15\u001b[0m \u001b[39m# for 7.17\u001b[39;00m\n\u001b[0;32m     16\u001b[0m \u001b[39m# infile_brd = \"./HTML_folder/7.17 HTML/7.17 HTML/MassProduction/7-17_finalTemplate_new.brd\"\u001b[39;00m\n\u001b[0;32m     17\u001b[0m \u001b[39m# infile_table = \"./HTML_folder/7.17 HTML/7.17 HTML/MassProduction/7-17_finalMassProduction_new.txt\"\u001b[39;00m\n\u001b[1;32m   (...)\u001b[0m\n\u001b[0;32m     20\u001b[0m \n\u001b[0;32m     21\u001b[0m \u001b[39m# run the process function\u001b[39;00m\n\u001b[1;32m---> 22\u001b[0m df_1, df_2 \u001b[39m=\u001b[39m process_file(infile_brd, infile_table, outfile_brd, outfile_table)\n",
      "Cell \u001b[1;32mIn[33], line 22\u001b[0m, in \u001b[0;36mprocess_file\u001b[1;34m(infile_brd, infile_table, outfile_brd, outfile_table)\u001b[0m\n\u001b[0;32m     20\u001b[0m df_new \u001b[39m=\u001b[39m pd\u001b[39m.\u001b[39mDataFrame(var_phrase_map\u001b[39m.\u001b[39mkeys(), index \u001b[39m=\u001b[39m \u001b[39mlist\u001b[39m(var_phrase_map\u001b[39m.\u001b[39mvalues()))\n\u001b[0;32m     21\u001b[0m df_dup \u001b[39m=\u001b[39m pd\u001b[39m.\u001b[39mconcat([df_new\u001b[39m.\u001b[39mT]\u001b[39m*\u001b[39m\u001b[39mlen\u001b[39m(table_new\u001b[39m.\u001b[39mcolumns))\u001b[39m.\u001b[39mT\n\u001b[1;32m---> 22\u001b[0m df_dup\u001b[39m.\u001b[39mcolumns \u001b[39m=\u001b[39m table_new\u001b[39m.\u001b[39mcolumns\n\u001b[0;32m     23\u001b[0m df_mix \u001b[39m=\u001b[39m pd\u001b[39m.\u001b[39mconcat([table_new, df_dup])\n\u001b[0;32m     24\u001b[0m df_mix\u001b[39m.\u001b[39mindex\u001b[39m.\u001b[39mname \u001b[39m=\u001b[39m table_new\u001b[39m.\u001b[39mindex\u001b[39m.\u001b[39mname\n",
      "File \u001b[1;32mc:\\Users\\shumengl\\.conda\\envs\\CTAT\\lib\\site-packages\\pandas\\core\\generic.py:5915\u001b[0m, in \u001b[0;36mNDFrame.__setattr__\u001b[1;34m(self, name, value)\u001b[0m\n\u001b[0;32m   5913\u001b[0m \u001b[39mtry\u001b[39;00m:\n\u001b[0;32m   5914\u001b[0m     \u001b[39mobject\u001b[39m\u001b[39m.\u001b[39m\u001b[39m__getattribute__\u001b[39m(\u001b[39mself\u001b[39m, name)\n\u001b[1;32m-> 5915\u001b[0m     \u001b[39mreturn\u001b[39;00m \u001b[39mobject\u001b[39;49m\u001b[39m.\u001b[39;49m\u001b[39m__setattr__\u001b[39;49m(\u001b[39mself\u001b[39;49m, name, value)\n\u001b[0;32m   5916\u001b[0m \u001b[39mexcept\u001b[39;00m \u001b[39mAttributeError\u001b[39;00m:\n\u001b[0;32m   5917\u001b[0m     \u001b[39mpass\u001b[39;00m\n",
      "File \u001b[1;32mc:\\Users\\shumengl\\.conda\\envs\\CTAT\\lib\\site-packages\\pandas\\_libs\\properties.pyx:69\u001b[0m, in \u001b[0;36mpandas._libs.properties.AxisProperty.__set__\u001b[1;34m()\u001b[0m\n",
      "File \u001b[1;32mc:\\Users\\shumengl\\.conda\\envs\\CTAT\\lib\\site-packages\\pandas\\core\\generic.py:823\u001b[0m, in \u001b[0;36mNDFrame._set_axis\u001b[1;34m(self, axis, labels)\u001b[0m\n\u001b[0;32m    821\u001b[0m \u001b[39mdef\u001b[39;00m \u001b[39m_set_axis\u001b[39m(\u001b[39mself\u001b[39m, axis: \u001b[39mint\u001b[39m, labels: AnyArrayLike \u001b[39m|\u001b[39m \u001b[39mlist\u001b[39m) \u001b[39m-\u001b[39m\u001b[39m>\u001b[39m \u001b[39mNone\u001b[39;00m:\n\u001b[0;32m    822\u001b[0m     labels \u001b[39m=\u001b[39m ensure_index(labels)\n\u001b[1;32m--> 823\u001b[0m     \u001b[39mself\u001b[39;49m\u001b[39m.\u001b[39;49m_mgr\u001b[39m.\u001b[39;49mset_axis(axis, labels)\n\u001b[0;32m    824\u001b[0m     \u001b[39mself\u001b[39m\u001b[39m.\u001b[39m_clear_item_cache()\n",
      "File \u001b[1;32mc:\\Users\\shumengl\\.conda\\envs\\CTAT\\lib\\site-packages\\pandas\\core\\internals\\managers.py:230\u001b[0m, in \u001b[0;36mBaseBlockManager.set_axis\u001b[1;34m(self, axis, new_labels)\u001b[0m\n\u001b[0;32m    228\u001b[0m \u001b[39mdef\u001b[39;00m \u001b[39mset_axis\u001b[39m(\u001b[39mself\u001b[39m, axis: \u001b[39mint\u001b[39m, new_labels: Index) \u001b[39m-\u001b[39m\u001b[39m>\u001b[39m \u001b[39mNone\u001b[39;00m:\n\u001b[0;32m    229\u001b[0m     \u001b[39m# Caller is responsible for ensuring we have an Index object.\u001b[39;00m\n\u001b[1;32m--> 230\u001b[0m     \u001b[39mself\u001b[39;49m\u001b[39m.\u001b[39;49m_validate_set_axis(axis, new_labels)\n\u001b[0;32m    231\u001b[0m     \u001b[39mself\u001b[39m\u001b[39m.\u001b[39maxes[axis] \u001b[39m=\u001b[39m new_labels\n",
      "File \u001b[1;32mc:\\Users\\shumengl\\.conda\\envs\\CTAT\\lib\\site-packages\\pandas\\core\\internals\\base.py:70\u001b[0m, in \u001b[0;36mDataManager._validate_set_axis\u001b[1;34m(self, axis, new_labels)\u001b[0m\n\u001b[0;32m     67\u001b[0m     \u001b[39mpass\u001b[39;00m\n\u001b[0;32m     69\u001b[0m \u001b[39melif\u001b[39;00m new_len \u001b[39m!=\u001b[39m old_len:\n\u001b[1;32m---> 70\u001b[0m     \u001b[39mraise\u001b[39;00m \u001b[39mValueError\u001b[39;00m(\n\u001b[0;32m     71\u001b[0m         \u001b[39mf\u001b[39m\u001b[39m\"\u001b[39m\u001b[39mLength mismatch: Expected axis has \u001b[39m\u001b[39m{\u001b[39;00mold_len\u001b[39m}\u001b[39;00m\u001b[39m elements, new \u001b[39m\u001b[39m\"\u001b[39m\n\u001b[0;32m     72\u001b[0m         \u001b[39mf\u001b[39m\u001b[39m\"\u001b[39m\u001b[39mvalues have \u001b[39m\u001b[39m{\u001b[39;00mnew_len\u001b[39m}\u001b[39;00m\u001b[39m elements\u001b[39m\u001b[39m\"\u001b[39m\n\u001b[0;32m     73\u001b[0m     )\n",
      "\u001b[1;31mValueError\u001b[0m: Length mismatch: Expected axis has 0 elements, new values have 8 elements"
     ]
    }
   ],
   "source": [
    "# read the latest mass production graph and mass production table and set the output paths\n",
    "# for 6.05\n",
    "infile_brd = \"./HTML_folder/6.05 HTML/6.05 HTML/MassProduction/6_5.brd\"\n",
    "infile_table = \"./HTML_folder/6.05 HTML/6.05 HTML/MassProduction/6_5.txt\"\n",
    "outfile_brd = infile_brd.replace('/HTML_folder/6.05 HTML/6.05 HTML/MassProduction/', '/Output_cleaned_folder/6.05 HTML/6.05 HTML/MassProduction/').replace('.brd', '_cleaned.brd')\n",
    "outfile_table = infile_table.replace('/HTML_folder/6.05 HTML/6.05 HTML/MassProduction/', '/Output_cleaned_folder/6.05 HTML/6.05 HTML/MassProduction/').replace('.txt', '_cleaned.txt')\n",
    "\n",
    "# for 6.10\n",
    "infile_brd = \"./HTML_folder/6.10 HTML/6.10 HTML/MassProduction/finalTemplateNew.brd\"\n",
    "infile_table = \"./HTML_folder/6.10 HTML/6.10 HTML/MassProduction/finalMassProdtable.txt\"\n",
    "outfile_brd = \"./Output_cleaned_folder/6.10 HTML/6.10 HTML/MassProduction/finalTemplateNew_cleaned.brd\" # output\n",
    "outfile_table = \"./Output_cleaned_folder/6.10 HTML/6.10 HTML/MassProduction/finalMassProdtable_cleaned.txt\"\n",
    "\n",
    "\n",
    "# for 7.17\n",
    "# infile_brd = \"./HTML_folder/7.17 HTML/7.17 HTML/MassProduction/7-17_finalTemplate_new.brd\"\n",
    "# infile_table = \"./HTML_folder/7.17 HTML/7.17 HTML/MassProduction/7-17_finalMassProduction_new.txt\"\n",
    "# outfile_brd = infile_brd.replace('/HTML_folder/7.17 HTML/7.17 HTML/MassProduction/', '/Output_cleaned_folder/7.17 HTML/7.17 HTML/MassProduction/').replace('.brd', '_cleaned.brd')\n",
    "# outfile_table = infile_table.replace('/HTML_folder/7.17 HTML/7.17 HTML/MassProduction/', '/Output_cleaned_folder/7.17 HTML/7.17 HTML/MassProduction/').replace('.txt', '_cleaned.txt')\n",
    "\n",
    "# run the process function\n",
    "df_1, df_2 = process_file(infile_brd, infile_table, outfile_brd, outfile_table)"
   ]
  }
 ],
 "metadata": {
  "kernelspec": {
   "display_name": "CTAT",
   "language": "python",
   "name": "python3"
  },
  "language_info": {
   "codemirror_mode": {
    "name": "ipython",
    "version": 3
   },
   "file_extension": ".py",
   "mimetype": "text/x-python",
   "name": "python",
   "nbconvert_exporter": "python",
   "pygments_lexer": "ipython3",
   "version": "3.10.8"
  },
  "orig_nbformat": 4,
  "vscode": {
   "interpreter": {
    "hash": "d5cbd4e664087b96353283f4ff050485ff797d3250d76f0a980158f1bcc99c02"
   }
  }
 },
 "nbformat": 4,
 "nbformat_minor": 2
}
