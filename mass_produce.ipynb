{
 "cells": [
  {
   "cell_type": "code",
   "execution_count": 6,
   "metadata": {},
   "outputs": [],
   "source": [
    "import xml.etree.ElementTree as ET\n",
    "import re\n",
    "from nltk.corpus import stopwords\n",
    "import pandas as pd"
   ]
  },
  {
   "cell_type": "code",
   "execution_count": 7,
   "metadata": {},
   "outputs": [],
   "source": [
    "# read the latest mass production table\n",
    "# for 6.05 clean\n",
    "infile_table = \"./Output_cleaned_folder/6.05 HTML/6.05 HTML/MassProduction/6_5_cleaned.txt\"\n",
    "infile_brd = \"./Output_cleaned_folder/6.05 HTML/6.05 HTML/MassProduction/6_5_cleaned.brd\"\n",
    "outfile_folder = \"./Output_cleaned_folder/6.05 HTML/6.05 HTML/FinalBRDs/\"\n",
    "\n",
    "# for 7.17 clean\n",
    "# infile_table = \"./Output_cleaned_folder/7.17 HTML/7.17 HTML/MassProduction/7-17_finalMassProduction_new_cleaned.txt\"\n",
    "# infile_brd = \"./Output_cleaned_folder/7.17 HTML/7.17 HTML/MassProduction/7-17_finalTemplate_new_cleaned.brd\"\n",
    "# outfile_folder = \"./Output_cleaned_folder/7.17 HTML/7.17 HTML/FinalBRDs/\"\n",
    "\n",
    "# for 6.05 translate\n",
    "# infile_table = \"./Output_translated_folder/6.05 HTML/6.05 HTML/MassProduction/6.05_translated_no_mark.txt\"\n",
    "# infile_brd = \"./Output_cleaned_folder/6.05 HTML/6.05 HTML/MassProduction/6_5_cleaned.brd\"\n",
    "# outfile_folder = \"./Output_translated_folder/6.05 HTML/6.05 HTML/FinalBRDs/\"\n",
    "\n",
    "# for 7.17 translate\n",
    "# infile_table = \"./Output_translated_folder/7.17 HTML/7.17 HTML/MassProduction/7.17_translated_no_mark.txt\"\n",
    "# infile_brd = \"./Output_cleaned_folder/7.17 HTML/7.17 HTML/MassProduction/7-17_finalTemplate_new_cleaned.brd\"\n",
    "# outfile_folder = \"./Output_translated_folder/7.17 HTML/7.17 HTML/FinalBRDs/\""
   ]
  },
  {
   "cell_type": "code",
   "execution_count": 8,
   "metadata": {},
   "outputs": [],
   "source": [
    "table_new = pd.read_csv(infile_table, sep=\"\\t\", index_col=0, keep_default_na=False)"
   ]
  },
  {
   "cell_type": "code",
   "execution_count": 9,
   "metadata": {},
   "outputs": [
    {
     "name": "stdout",
     "output_type": "stream",
     "text": [
      "%(imgNum)% doesn't exist\n",
      "%(imgNum)% doesn't exist\n",
      "%(imgNum)% doesn't exist\n",
      "%(imgNum)% doesn't exist\n",
      "%(imgNum)% doesn't exist\n",
      "%(imgNum)% doesn't exist\n",
      "%(imgNum)% doesn't exist\n",
      "%(imgNum)% doesn't exist\n",
      "1.brd finished\n",
      "2.brd finished\n",
      "3.brd finished\n",
      "4.brd finished\n",
      "5.brd finished\n",
      "6.brd finished\n",
      "7.brd finished\n",
      "8.brd finished\n"
     ]
    }
   ],
   "source": [
    "# replace variable with value in the latest mass production table\n",
    "# iterate column and row in table_new\n",
    "for column in range(table_new.shape[1]):\n",
    "    for row in range(table_new.shape[0]):\n",
    "        content_new = str(table_new.iloc[row, column])\n",
    "        start_pattern = \"%\\(\"\n",
    "        # count the number of the replacement in one variable(content_new)\n",
    "        count = [match.start() for match in re.finditer(start_pattern, str(content_new))]\n",
    "        for _ in range(len(count)):\n",
    "            # find the variable\n",
    "            start_pattern = \"%\\(\"\n",
    "            start_index = [match.start() for match in re.finditer(start_pattern, str(content_new))]\n",
    "            end_pattern = \"\\)%\"\n",
    "            end_index = [match.start() for match in re.finditer(end_pattern, str(content_new))]\n",
    "            # no need for replacement\n",
    "            if start_index == []:\n",
    "                continue\n",
    "            else:\n",
    "                variable = content_new[start_index[0]: end_index[0]+2]\n",
    "                # find the corresponding column name, and then find the value\n",
    "                column_name = table_new.columns[column]\n",
    "                try:\n",
    "                    value = table_new.loc[variable, column_name] \n",
    "                    # print(variable, value)\n",
    "                    content_new = content_new.replace(variable, value)\n",
    "                    table_new.iloc[row, column] = content_new\n",
    "                except:\n",
    "                    print(variable + \" doesn't exist\")\n",
    "# table_new.head()\n",
    "for i in range(len(table_new.columns)):\n",
    "    column_name = table_new.columns[i]\n",
    "    # print(table_new.columns[i])\n",
    "    fout = outfile_folder + str(table_new.columns[i]) + \".brd\"\n",
    "    # print(fout)\n",
    "    count_line = 0\n",
    "    count_text = 0\n",
    "    with open(infile_brd, 'r') as infile, open(fout, 'w+') as outfile:\n",
    "        for line in infile:\n",
    "            line = line.replace('\\r', '')\n",
    "            line_str = str(line)\n",
    "            # replace massproduce\n",
    "            start_pattern_problem_name = \"<ProblemName>\"\n",
    "            start_index_problem_name = [match.start() for match in re.finditer(start_pattern_problem_name, line_str)]\n",
    "            end_pattern_problem_name = \"</ProblemName>\"\n",
    "            end_index_problem_name = [match.start() for match in re.finditer(end_pattern_problem_name, line_str)]\n",
    "            start_index_problem_name, end_index_problem_name\n",
    "            try:\n",
    "                problem_name_old = line_str[start_index_problem_name[0]+13: end_index_problem_name[0]]\n",
    "                line_str = line_str.replace(problem_name_old, column_name)\n",
    "            except:\n",
    "                pass\n",
    "            # replace text in first node\n",
    "            if count_text == 0:\n",
    "                start_pattern_first_node = '<text>'\n",
    "                start_index_first_node = [match.start() for match in re.finditer(start_pattern_first_node, line_str)]\n",
    "                end_pattern_first_node = '</text>'\n",
    "                end_index_first_node = [match.start() for match in re.finditer(end_pattern_first_node, line_str)]\n",
    "                if start_index_first_node != []:\n",
    "                    # print(start_index_first_node, count_line)\n",
    "                    count_text += 1\n",
    "                    # print(line_str[start_index_first_node[0]+6: end_index_first_node[0]])\n",
    "                    text_old = line_str[start_index_first_node[0]+6: end_index_first_node[0]]\n",
    "                    line_str = line_str.replace(text_old, column_name)\n",
    "            # count the number of the replacement in one variable(line_str)\n",
    "            start_pattern = \"%\\(\"\n",
    "            count = [match.start() for match in re.finditer(start_pattern, str(line_str))]\n",
    "            if count == []:\n",
    "                line_str = line_str\n",
    "            else:\n",
    "                for _ in range(len(count)):\n",
    "                    start_pattern = \"%\\(\"\n",
    "                    start_index = [match.start() for match in re.finditer(start_pattern, str(line_str))]\n",
    "                    end_pattern = \"\\)%\"\n",
    "                    end_index = [match.start() for match in re.finditer(end_pattern, str(line_str))]\n",
    "                    if start_index == []:\n",
    "                        line_str = line_str\n",
    "                    else:\n",
    "                        variable = line_str[start_index[0]: end_index[0]+2]\n",
    "                    try:\n",
    "                        value = table_new.loc[variable, column_name] \n",
    "                        # print(variable, value)\n",
    "                        line_str = line_str.replace(variable, value).replace(\"<%\", \"&lt;%\").replace(\"%>\", \"%&gt;\")\n",
    "                    except:\n",
    "                        print(variable + \" doesn't exist\")\n",
    "            count_line += 1\n",
    "            # print(str(count_line) + line_str)\n",
    "            outfile.write(line_str)\n",
    "        print(fout.split(\"/\")[-1] + \" finished\")"
   ]
  },
  {
   "cell_type": "code",
   "execution_count": null,
   "metadata": {},
   "outputs": [],
   "source": []
  }
 ],
 "metadata": {
  "kernelspec": {
   "display_name": "CTAT",
   "language": "python",
   "name": "python3"
  },
  "language_info": {
   "codemirror_mode": {
    "name": "ipython",
    "version": 3
   },
   "file_extension": ".py",
   "mimetype": "text/x-python",
   "name": "python",
   "nbconvert_exporter": "python",
   "pygments_lexer": "ipython3",
   "version": "3.10.8"
  },
  "orig_nbformat": 4,
  "vscode": {
   "interpreter": {
    "hash": "d5cbd4e664087b96353283f4ff050485ff797d3250d76f0a980158f1bcc99c02"
   }
  }
 },
 "nbformat": 4,
 "nbformat_minor": 2
}
