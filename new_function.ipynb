{
 "cells": [
  {
   "cell_type": "code",
   "execution_count": 1,
   "metadata": {},
   "outputs": [],
   "source": [
    "import re"
   ]
  },
  {
   "cell_type": "code",
   "execution_count": 2,
   "metadata": {},
   "outputs": [],
   "source": [
    "def clean_phrase(s, convert_to_lower=False):\n",
    "    # TODO (check if html references should be preserved in translation)\n",
    "    # s = re.sub('<[^<]+?>', '', s) #markup\n",
    "    # s = re.sub('[^0-9a-zA-Z_\\'\\s*/+-äöüÄÖÜß!?\\.\\u0590-\\u05fe]', '', s) #keep alnum, operators, umlauts, hebrew, and apostrophe\n",
    "    s = re.sub('\\t\\n\\r', '', s) #remove tab, line break, carriage return\n",
    "    s = ' '.join(s.split()) #remove redundant whitespace\n",
    "    return s.lower() if convert_to_lower else s"
   ]
  },
  {
   "cell_type": "code",
   "execution_count": 3,
   "metadata": {},
   "outputs": [],
   "source": [
    "phase = \"Try entering <%=fractionsimplify(fractionMake(%(tar1)%,%(tot)%))%>.\""
   ]
  },
  {
   "cell_type": "code",
   "execution_count": 4,
   "metadata": {},
   "outputs": [
    {
     "data": {
      "text/plain": [
       "'Try entering <%=fractionsimplify(fractionMake(%(tar1)%,%(tot)%))%>.'"
      ]
     },
     "execution_count": 4,
     "metadata": {},
     "output_type": "execute_result"
    }
   ],
   "source": [
    "clean_phrase(phase)"
   ]
  },
  {
   "cell_type": "code",
   "execution_count": 5,
   "metadata": {},
   "outputs": [],
   "source": [
    "import pandas as pd"
   ]
  },
  {
   "cell_type": "code",
   "execution_count": 15,
   "metadata": {},
   "outputs": [
    {
     "data": {
      "text/plain": [
       "(116, 9)"
      ]
     },
     "execution_count": 15,
     "metadata": {},
     "output_type": "execute_result"
    }
   ],
   "source": [
    "path = \"./6.05 HTML/6.05 HTML/MassProduction/6_5.txt\"\n",
    "data = pd.read_csv(path, sep=\"\\t\")\n",
    "data.shape"
   ]
  },
  {
   "cell_type": "code",
   "execution_count": 19,
   "metadata": {},
   "outputs": [
    {
     "name": "stdout",
     "output_type": "stream",
     "text": [
      "Column Number :  1\n",
      "Column Contents :  ['example1'\n",
      " 'Using the set of shapes in the picture, answer questions 1 through 4 in the worksheet provided.'\n",
      " 'Assets/01.png' '(1) What percent of the shapes are %(type1)%?'\n",
      " '(2) What percent of the shapes are %(type2)%?'\n",
      " '(3) What percent of the shapes are %(type3)%?'\n",
      " '(4) What percent of the shapes are %(type4)%?' 'squares' 'purple'\n",
      " 'not blue' 'red' '100' '20' '60' '5' '100' '100/100' '20/100' '60/100'\n",
      " '5/100' '100' '20' '60' '5' '1' '0.2' '0.6' '0.05' '1' '1/5' '3/5' '1/20'\n",
      " 'shapes' 'in the picture' '100' '20' '20' '5' '%(tot)%' '%(tot)%'\n",
      " '%(tot)%' '%(tot)%' nan nan nan nan '-' '-' '-' '-'\n",
      " 'To work through question 1, you must first find the number of %(shapeORitem)% that are %(type1)%.'\n",
      " 'How many %(shapeORitem)% are %(type1)%?'\n",
      " 'To work through question 2, you must first find the number of %(shapeORitem)% that are %(type2)%.'\n",
      " 'How many %(shapeORitem)% are %(type2)%?'\n",
      " 'To work through question 3, you must first find the number of %(shapeORitem)% that are %(type3)%.'\n",
      " 'How many %(shapeORitem)% are %(type3)%?'\n",
      " 'To work through question 4, you must first find the number of %(shapeORitem)% that are %(type4)%.'\n",
      " 'How many %(shapeORitem)% are %(type4)%?'\n",
      " 'The next step is to figure out the total number of %(shapeORitem)% %(pictureORgraph)%.'\n",
      " 'What is the total number of %(shapeORitem)% shown?' '%(total-h1)%'\n",
      " '%(total-h2)%' '%(total-h1)%' '%(total-h2)%' '%(total-h1)%'\n",
      " '%(total-h2)%' '%(total-h1)%' '%(total-h2)%'\n",
      " 'The unreduced ratio is a fraction representing the target number of items divided by the total number of items.'\n",
      " 'Make sure you enter the unreduced ratio as a fraction, where the target number is the numerator and the total number is the denominator.'\n",
      " 'To express the unreduced ratio as a ratio out of 100, first convert the denominator of %(tar1)%/%(tot1)% to 100.'\n",
      " 'Do you know how to find an equivalent fraction of %(tar1)%/%(tot1)% that has denominator of 100? You already know the denominator, 100. Then, what would be its numerator?'\n",
      " 'One way to find the numerator for the ratio out of 100 is to start with the original numerator, %(tar1)%, and multiply it by 100 and then divide it by %(tot1)%, the original denominator: %(tar1)%*100/%(tot1)%.'\n",
      " 'To express the unreduced ratio as a ratio out of 100, first convert the denominator of %(tar2)%/%(tot2)% to 100.'\n",
      " 'Do you know how to find an equivalent fraction of %(tar2)%/%(tot2)% that has denominator of 100? You already know the denominator, 100. Then, what would be its numerator?'\n",
      " 'One way to find the numerator for the ratio out of 100 is to start with the original numerator, %(tar2)%, and multiply it by 100 and then divide it by %(tot2)%, the original denominator: %(tar2)%*100/%(tot2)%. '\n",
      " 'To express the unreduced ratio as a ratio out of 100, first convert the denominator of %(tar3)%/%(tot3)% to 100.'\n",
      " 'Do you know how to find an equivalent fraction of %(tar3)%/%(tot3)% that has denominator of 100? You already know the denominator, 100. Then, what would be its numerator?'\n",
      " 'One way to find the numerator for the ratio out of 100 is to start with the original numerator, %(tar3)%, and multiply it by 100 and then divide it by %(tot3)%, the original denominator: %(tar3)%*100/%(tot3)%. '\n",
      " 'To express the unreduced ratio as a ratio out of 100, first convert the denominator of %(tar4)%/%(tot4)% to 100.'\n",
      " 'Do you know how to find an equivalent fraction of %(tar4)%/%(tot4)% that has denominator of 100? You already know the denominator. Then, what would be its numerator?'\n",
      " 'One way to find the numerator for the ratio out of 100 is to start with the original numerator, %(tar4)%, and multiply it by 100 and then divide it by %(tot4)%, the original denominator: %(tar4)%*100/%(tot4)%. '\n",
      " 'Remember one percent (1%) is one out of 100. In the previous row, you found the ratio out of 100, %(percent1)%/100. The percent representation is just the numerator of this ratio, %(percent1)%.'\n",
      " 'If the ratio out 100 is %(percent1)%/100, the percent is its numerator, %(percent1)%.'\n",
      " 'Remember one percent (1%) is one out of 100. In the previous row, you found the ratio out of 100, %(percent2)%/100. The percent representation is just the numerator of this ratio, %(percent2)%.'\n",
      " 'If the ratio out 100 is %(percent2)%/100, the percent is its numerator, %(percent2)%.'\n",
      " 'Remember one percent (1%) is one out of 100. In the previous row, you found the ratio out of 100, %(percent3)%/100. The percent representation is just the numerator of this ratio, %(percent3)%.'\n",
      " 'If the ratio out 100 is %(percent3)%/100, the percent is its numerator, %(percent3)%.'\n",
      " 'Remember one percent (1%) is one out of 100. In the previous row, you found the ratio out of 100, %(percent4)%/100. The percent representation is just the numerator of this ratio, %(percent4)%.'\n",
      " 'If the ratio out 100 is %(percent4)%/100, the percent is its numerator, %(percent4)%.'\n",
      " 'The ratio out of 100 is written as %(percent1)%/100. Please express this value as a decimal.'\n",
      " 'To express the ratio as a decimal, simply divide the numerator by the denominator. Remember, dividing by 100 is like to dividing by 10, then dividing by 10 again.'\n",
      " \"To divide the number by 10, hop the decimal point over one place to the LEFT. If it's a whole number, there is an 'invisible' decimal point at the right side of the number!\"\n",
      " 'The ratio out of 100 is written as %(percent2)%/100. Please express this value as a decimal.'\n",
      " 'The ratio out of 100 is written as %(percent3)%/100. Please express this value as a decimal.'\n",
      " 'The ratio out of 100 is written as %(percent4)%/100. Please express this value as a decimal.'\n",
      " 'To turn %(tar1)%/%(tot1)% into a reduced ratio, simplify the ratio as much as possible until it cannot be simplified anymore.'\n",
      " 'You can do this by finding common factors, and divide the numerator and the denominator until there are no more common factors other than 1.'\n",
      " 'Or, try finding the greatest common factor. This is the biggest of all numbers that can divide both %(tar1)% and %(tot1)% without any remainder.'\n",
      " 'Need more help? Greatest common factor of %(tar1)% and %(tot1)% is %(gcf1)%.'\n",
      " 'Try entering <%=fractionsimplify(fractionMake(%(tar1)%,%(tot1)%))%>.'\n",
      " 'To turn %(tar2)%/%(tot2)% into a reduced ratio, simplify the ratio as much as possible until it cannot be simplified anymore.'\n",
      " 'You can do this by finding common factors, and divide the numerator and the denominator until there are no more common factors other than 1.'\n",
      " 'Or, try finding the greatest common factor. This is the biggest of all numbers that can divide both %(tar1)% and %(tot1)% without any remainder.'\n",
      " 'Need more help? Greatest common factor of %(tar2)% and %(tot2)% is %(gcf2)%.'\n",
      " 'Try entering <%=fractionsimplify(fractionMake(%(tar2)%,%(tot2)%))%>.'\n",
      " 'To turn %(tar3)%/%(tot3)% into a reduced ratio, simplify the ratio as much as possible until it cannot be simplified anymore.'\n",
      " 'You can do this by finding common factors, and divide the numerator and the denominator until there are no more common factors other than 1.'\n",
      " 'Or, try finding the greatest common factor. This is the biggest of all numbers that can divide both %(tar1)% and %(tot1)% without any remainder.'\n",
      " 'Need more help? Greatest common factor of %(tar3)% and %(tot3)% is %(gcf3)%.'\n",
      " 'Try entering <%=fractionsimplify(fractionMake(%(tar3)%,%(tot3)%))%>.'\n",
      " 'To turn %(tar4)%/%(tot4)% into a reduced ratio, simplify the ratio as much as possible until it cannot be simplified anymore.'\n",
      " 'You can do this by finding common factors, and divide the numerator and the denominator until there are no more common factors other than 1.'\n",
      " 'Or, try finding the greatest common factor. This is the biggest of all numbers that can divide both %(tar1)% and %(tot1)% without any remainder.'\n",
      " 'Need more help? Greatest common factor of %(tar4)% and %(tot4)% is %(gcf4)%.'\n",
      " 'Try entering <%=fractionsimplify(fractionMake(%(tar4)%,%(tot4)%))%>.']\n"
     ]
    }
   ],
   "source": [
    "for index in range(data.shape[1]):\n",
    "    if index > 1: # skip the first column\n",
    "        print('Column Number : ', index)\n",
    "        # Select column by index position using iloc[]\n",
    "        columnSeriesObj = data.iloc[:, index]\n",
    "        print('Column Contents : ', columnSeriesObj.values)"
   ]
  },
  {
   "cell_type": "code",
   "execution_count": 49,
   "metadata": {},
   "outputs": [
    {
     "name": "stdout",
     "output_type": "stream",
     "text": [
      "True\n",
      "%(shapeORitem)%\n",
      "%(type1)%\n"
     ]
    }
   ],
   "source": [
    "string = \"How many %(shapeORitem)% are %(type1)%?\"\n",
    "start_pattern = \"%\\(\"\n",
    "start_index = [match.start() for match in re.finditer(start_pattern, string)]\n",
    "end_pattern = \"\\)%\"\n",
    "end_index = [match.start() for match in re.finditer(end_pattern, string)]\n",
    "print(len(start_index) == len(end_index))\n",
    "for i in range(len(start_index)):\n",
    "    print(string[start_index[i]: end_index[i]+2])"
   ]
  },
  {
   "cell_type": "code",
   "execution_count": 21,
   "metadata": {},
   "outputs": [],
   "source": [
    "# data"
   ]
  },
  {
   "cell_type": "code",
   "execution_count": null,
   "metadata": {},
   "outputs": [],
   "source": []
  }
 ],
 "metadata": {
  "kernelspec": {
   "display_name": "CTAT",
   "language": "python",
   "name": "python3"
  },
  "language_info": {
   "codemirror_mode": {
    "name": "ipython",
    "version": 3
   },
   "file_extension": ".py",
   "mimetype": "text/x-python",
   "name": "python",
   "nbconvert_exporter": "python",
   "pygments_lexer": "ipython3",
   "version": "3.10.8 | packaged by conda-forge | (main, Nov 24 2022, 14:07:00) [MSC v.1916 64 bit (AMD64)]"
  },
  "orig_nbformat": 4,
  "vscode": {
   "interpreter": {
    "hash": "d5cbd4e664087b96353283f4ff050485ff797d3250d76f0a980158f1bcc99c02"
   }
  }
 },
 "nbformat": 4,
 "nbformat_minor": 2
}
