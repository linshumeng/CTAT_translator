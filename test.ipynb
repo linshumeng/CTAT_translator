{
 "cells": [
  {
   "cell_type": "code",
   "execution_count": 53,
   "metadata": {},
   "outputs": [],
   "source": [
    "import xml.etree.ElementTree as ET\n",
    "import re\n",
    "from nltk.corpus import stopwords\n",
    "import pandas as pd\n",
    "# from bs4 import BeautifulSoup\n",
    "# from tqdm import tqdm\n",
    "# import glob\n",
    "# import json\n",
    "# import translators.server as tss\n",
    "\n",
    "STOPWORDS = stopwords.words('english')"
   ]
  },
  {
   "cell_type": "code",
   "execution_count": 54,
   "metadata": {},
   "outputs": [],
   "source": [
    "def process_file(infile_brd, infile_table, outfile_brd, outfile_table):\n",
    "    global tree; tree = ET.parse(infile_brd, short_empty_elements=False)\n",
    "    print(\"mass production brd input read\")\n",
    "    print(\"path: \" + infile_brd)\n",
    "    root = tree.getroot()\n",
    "\n",
    "    tree.write(outfile_brd, encoding=\"utf-8\")\n",
    "    print(\"mass production brd output finished\")\n",
    "    print(\"path: \" + outfile_table)"
   ]
  },
  {
   "cell_type": "code",
   "execution_count": 55,
   "metadata": {},
   "outputs": [
    {
     "ename": "TypeError",
     "evalue": "parse() got an unexpected keyword argument 'short_empty_elements'",
     "output_type": "error",
     "traceback": [
      "\u001b[1;31m---------------------------------------------------------------------------\u001b[0m",
      "\u001b[1;31mTypeError\u001b[0m                                 Traceback (most recent call last)",
      "Cell \u001b[1;32mIn[55], line 14\u001b[0m\n\u001b[0;32m     11\u001b[0m outfile_table \u001b[39m=\u001b[39m infile_table\u001b[39m.\u001b[39mreplace(\u001b[39m'\u001b[39m\u001b[39m/HTML_folder/6.05 HTML/6.05 HTML/MassProduction/\u001b[39m\u001b[39m'\u001b[39m, \u001b[39m'\u001b[39m\u001b[39m/Output_cleaned_folder/\u001b[39m\u001b[39m'\u001b[39m)\u001b[39m.\u001b[39mreplace(\u001b[39m'\u001b[39m\u001b[39m.txt\u001b[39m\u001b[39m'\u001b[39m, \u001b[39m'\u001b[39m\u001b[39m_cleaned.txt\u001b[39m\u001b[39m'\u001b[39m)\n\u001b[0;32m     13\u001b[0m \u001b[39m# run the process function\u001b[39;00m\n\u001b[1;32m---> 14\u001b[0m process_file(infile_brd, infile_table, outfile_brd, outfile_table)\n",
      "Cell \u001b[1;32mIn[54], line 2\u001b[0m, in \u001b[0;36mprocess_file\u001b[1;34m(infile_brd, infile_table, outfile_brd, outfile_table)\u001b[0m\n\u001b[0;32m      1\u001b[0m \u001b[39mdef\u001b[39;00m \u001b[39mprocess_file\u001b[39m(infile_brd, infile_table, outfile_brd, outfile_table):\n\u001b[1;32m----> 2\u001b[0m     \u001b[39mglobal\u001b[39;00m tree; tree \u001b[39m=\u001b[39m ET\u001b[39m.\u001b[39;49mparse(infile_brd, short_empty_elements\u001b[39m=\u001b[39;49m\u001b[39mFalse\u001b[39;49;00m)\n\u001b[0;32m      3\u001b[0m     \u001b[39mprint\u001b[39m(\u001b[39m\"\u001b[39m\u001b[39mmass production brd input read\u001b[39m\u001b[39m\"\u001b[39m)\n\u001b[0;32m      4\u001b[0m     \u001b[39mprint\u001b[39m(\u001b[39m\"\u001b[39m\u001b[39mpath: \u001b[39m\u001b[39m\"\u001b[39m \u001b[39m+\u001b[39m infile_brd)\n",
      "\u001b[1;31mTypeError\u001b[0m: parse() got an unexpected keyword argument 'short_empty_elements'"
     ]
    }
   ],
   "source": [
    "# read the latest mass production graph and mass production table\n",
    "# infile_brd = \"./HTML_folder/7.17 HTML/7.17 HTML/MassProduction/7-17_finalTemplate_new.brd\"\n",
    "# infile_table = \"./HTML_folder/7.17 HTML/7.17 HTML/MassProduction/7-17_finalMassProduction_new.txt\"\n",
    "infile_brd = \"./HTML_folder/6.05 HTML/6.05 HTML/MassProduction/6_5 copy.brd\"\n",
    "infile_table = \"./HTML_folder/6.05 HTML/6.05 HTML/MassProduction/6_5.txt\"\n",
    "\n",
    "# set the output paths\n",
    "# outfile_brd = infile_brd.replace('/HTML_folder/7.17 HTML/7.17 HTML/MassProduction/', '/Output_cleaned_folder/').replace('.brd', '_cleaned.brd')\n",
    "# outfile_table = infile_table.replace('/HTML_folder/7.17 HTML/7.17 HTML/MassProduction/', '/Output_cleaned_folder/').replace('.txt', '_cleaned.txt')\n",
    "outfile_brd = infile_brd.replace('/HTML_folder/6.05 HTML/6.05 HTML/MassProduction/', '/Output_cleaned_folder/').replace('.brd', '_cleaned.brd')\n",
    "outfile_table = infile_table.replace('/HTML_folder/6.05 HTML/6.05 HTML/MassProduction/', '/Output_cleaned_folder/').replace('.txt', '_cleaned.txt')\n",
    "\n",
    "# run the process function\n",
    "process_file(infile_brd, infile_table, outfile_brd, outfile_table)"
   ]
  }
 ],
 "metadata": {
  "kernelspec": {
   "display_name": "CTAT",
   "language": "python",
   "name": "python3"
  },
  "language_info": {
   "codemirror_mode": {
    "name": "ipython",
    "version": 3
   },
   "file_extension": ".py",
   "mimetype": "text/x-python",
   "name": "python",
   "nbconvert_exporter": "python",
   "pygments_lexer": "ipython3",
   "version": "3.10.8 | packaged by conda-forge | (main, Nov 24 2022, 14:07:00) [MSC v.1916 64 bit (AMD64)]"
  },
  "orig_nbformat": 4,
  "vscode": {
   "interpreter": {
    "hash": "d5cbd4e664087b96353283f4ff050485ff797d3250d76f0a980158f1bcc99c02"
   }
  }
 },
 "nbformat": 4,
 "nbformat_minor": 2
}
