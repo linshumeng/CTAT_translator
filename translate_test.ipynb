{
 "cells": [
  {
   "cell_type": "code",
   "execution_count": 31,
   "metadata": {},
   "outputs": [],
   "source": [
    "import re\n",
    "import translators.server as tss\n",
    "TARGET_LANG = 'es'"
   ]
  },
  {
   "cell_type": "code",
   "execution_count": 32,
   "metadata": {},
   "outputs": [],
   "source": [
    "# content_new = \"The ratio out of 100 is written as <%= 100/100*100 %>/100. Please express this value as a decimal.\"\n",
    "# content_new = \"If you have already entered <%=fmtDecimal(totalRow([r1c1, r1c2, r1c3, r1c4]) / 1000, 3)%>. How many <%=cellLabel(\"ones\", \"tenths\", \"hundredths\", \"thousandths\", 2)%> should you enter to get <%=fmtDecimal(921 / 1000, 3)%>?\"\n",
    "# content_new = \"Try\"\n",
    "# out, fun, rep = find_founction(content_new)\n",
    "\n",
    "# replacement_sign = \"#*\"\n",
    "# replacement_dic = {}\n",
    "# pattern_function = \"<%(.*?)%>\"\n",
    "# # count the number of the replacement in one variable(content_new)\n",
    "# match_formula = [match for match in re.findall(pattern_function, str(content_new))]\n",
    "# if match_formula:\n",
    "#     for i in range(len(match_formula)):\n",
    "#         function = \"<%\" + str(match_formula[i]) + \"%>\"\n",
    "#         replacement = replacement_sign + str(i)\n",
    "#         replacement_dic[replacement] = function\n",
    "#         content_new = content_new.replace(function, replacement)\n",
    "# content_new, replacement_dic\n",
    "\n",
    "# for key, value in replacement_dic.items():\n",
    "#     content_new = content_new.replace(key, value)\n",
    "# content_new"
   ]
  },
  {
   "cell_type": "code",
   "execution_count": 33,
   "metadata": {},
   "outputs": [],
   "source": [
    "# def find_founction(content_new, replacement=\"#*\"):\n",
    "#     replacement_sign = \"#*\"\n",
    "#     replacement_dic = {}\n",
    "#     pattern_function = \"<%(.*?)%>\"\n",
    "#     # count the number of the replacement in one variable(content_new)\n",
    "#     match_formula = [match for match in re.findall(pattern_function, str(content_new))]\n",
    "#     if match_formula:\n",
    "#         for i in range(len(match_formula)):\n",
    "#             function = \"<%\" + str(match_formula[i]) + \"%>\"\n",
    "#             replacement = replacement_sign + str(i)\n",
    "#             replacement_dic[replacement] = function\n",
    "#             content_new = content_new.replace(function, replacement)\n",
    "#     return content_new, replacement_dic"
   ]
  },
  {
   "cell_type": "code",
   "execution_count": 55,
   "metadata": {},
   "outputs": [],
   "source": [
    "def translate_formula(content_new, replacement=\"#\"):\n",
    "    replacement_sign = replacement\n",
    "    replacement_dic = {}\n",
    "    pattern_function = \"<%(.*?)%>\"\n",
    "    # count the number of the replacement in one variable(content_new)\n",
    "    match_formula = [match for match in re.findall(pattern_function, str(content_new))]\n",
    "    if match_formula:\n",
    "        for i in range(len(match_formula)):\n",
    "            formula = match_formula[i]\n",
    "            # Now we use double quote, but in the general, single quote will be used\n",
    "            if '\"' in formula:\n",
    "                print(True, formula)\n",
    "                pattern_variable = \"%\\((.*?)\\)%\"\n",
    "                match_variable = [match for match in re.findall(pattern_variable, formula)]\n",
    "                print(match_variable)\n",
    "                if match_variable:\n",
    "                    for j in range(len(match_variable)):\n",
    "                        variable = match_variable[j]\n",
    "                        variable_format = '%(' + str(variable) + ')%'\n",
    "                        print(variable_format)        \n",
    "                else:\n",
    "                    pattern_string = '\"(.*?)\"'\n",
    "                    match_string = [match for match in re.findall(pattern_string, formula)]\n",
    "                    print(match_string)\n",
    "                    \n",
    "            # if match_formula[i] is \":\n",
    "                # if inside \" is variable: pass\n",
    "                # else contains variable: replace and then translate\n",
    "            # replacement_dic add new elements\n",
    "            formula_format = \"<%\" + str(formula) + \"%>\"\n",
    "            replacement = replacement_sign + str(i)\n",
    "            replacement_dic[replacement] = formula_format\n",
    "            content_new = content_new.replace(formula_format, replacement)\n",
    "    return content_new, replacement_dic"
   ]
  },
  {
   "cell_type": "code",
   "execution_count": 56,
   "metadata": {},
   "outputs": [],
   "source": [
    "# content_new = \"The ratio out of 100 is written as <%= 100/100*100 %>/100. Please express this value as a decimal.\"\n",
    "content_new = 'If you have already entered <%=fmtDecimal(totalRow([r1c1, r1c2, r1c3, r1c4]) / 1000, 3)%>. How many <%=cellLabel(\"%(column_1_type)%\", \"%(column_2_type)%\", \"%(column_3_type)%\", \"%(column_4_type)%\", 1)%> should you enter to get <%=fmtDecimal(%(total)% / 1000, 3)%>?'\n",
    "# content_new = '<%=quantity2 ? \"Look at what you named the right column.\" : \"The %(xlabel)% is set. Depending on the %(xlabel)%, the ... changes.\"%>'"
   ]
  },
  {
   "cell_type": "code",
   "execution_count": 57,
   "metadata": {},
   "outputs": [
    {
     "name": "stdout",
     "output_type": "stream",
     "text": [
      "True =cellLabel(\"%(column_1_type)%\", \"%(column_2_type)%\", \"%(column_3_type)%\", \"%(column_4_type)%\", 1)\n",
      "['column_1_type', 'column_2_type', 'column_3_type', 'column_4_type']\n",
      "%(column_1_type)%\n",
      "%(column_2_type)%\n",
      "%(column_3_type)%\n",
      "%(column_4_type)%\n",
      "If you have already entered #0. How many #1 should you enter to get #2? {'#0': '<%=fmtDecimal(totalRow([r1c1, r1c2, r1c3, r1c4]) / 1000, 3)%>', '#1': '<%=cellLabel(\"%(column_1_type)%\", \"%(column_2_type)%\", \"%(column_3_type)%\", \"%(column_4_type)%\", 1)%>', '#2': '<%=fmtDecimal(%(total)% / 1000, 3)%>'}\n"
     ]
    }
   ],
   "source": [
    "google_dict = {}\n",
    "content_new, replacement_dic = translate_formula(content_new) \n",
    "translation = tss.google(content_new, from_language='en', to_language=TARGET_LANG)\n",
    "print(content_new, replacement_dic)\n",
    "if bool(replacement_dic) is False:\n",
    "    pass\n",
    "else:\n",
    "    for key, value in replacement_dic.items():\n",
    "        translation = translation.replace(key, value)"
   ]
  },
  {
   "cell_type": "code",
   "execution_count": 37,
   "metadata": {},
   "outputs": [
    {
     "data": {
      "text/plain": [
       "'<%=quantity2 ? \"Look at what you named the right column.\" : \"The %(xlabel)% is set. Depending on the %(xlabel)%, the ... changes.\"%>'"
      ]
     },
     "execution_count": 37,
     "metadata": {},
     "output_type": "execute_result"
    }
   ],
   "source": [
    "translation"
   ]
  },
  {
   "cell_type": "code",
   "execution_count": 38,
   "metadata": {},
   "outputs": [],
   "source": [
    "# google_dict = {}\n",
    "# print(\"use google translation\")\n",
    "# try:\n",
    "#     content_new, replacement_dic = find_founction(content_new) \n",
    "#     translation = tss.google(content_new, from_language='en', to_language=TARGET_LANG)\n",
    "#     print(content_new, replacement_dic)\n",
    "#     if bool(replacement_dic) is False:\n",
    "#         pass\n",
    "#     else:\n",
    "#         for key, value in replacement_dic.items():\n",
    "#             translation = translation.replace(key, value)\n",
    "# except:\n",
    "#     translation = 'error'\n",
    "# content_translated = '[google]' + translation\n",
    "# content_translated_clean = translation\n",
    "# print(content_translated)\n",
    "# google_dict[content_new] = translation"
   ]
  },
  {
   "cell_type": "code",
   "execution_count": 39,
   "metadata": {},
   "outputs": [],
   "source": [
    "# tss.google(\"Try entering @\", from_language='en', to_language=TARGET_LANG)"
   ]
  },
  {
   "cell_type": "code",
   "execution_count": 40,
   "metadata": {},
   "outputs": [],
   "source": [
    "# # content_new = 'Try entering <%=round(floor((%(total)%-totalTableDec(r1c1, r1c2, r1c3, r1c4))/columnCell(%(column_1_type)%, %(column_2_type)%, %(column_3_type)%, %(column_4_type)%, %(column_1_value)%, %(column_2_value)%, %(column_3_value)%, %(column_4_value)%, \"r1c1\", 0)))%>'\n",
    "# content_new = '<%=graphLabelX ? \"Look at what you named the X-axis.\" : \"The dependent quantity depends on the independent quantity. In this case: %(ylabel)% depends on ...\"%>'\n",
    "# content_new, replacement_dic = find_founction(content_new)\n",
    "# print(content_new)\n",
    "# pattern_variable = \"%\\((.*?)\\)%\"\n",
    "# # count the number of the replacement in one variable(content_new)\n",
    "# match_variable = [match for match in re.findall(pattern_variable, str(content_new))]\n",
    "# match_variable\n",
    "\n",
    "# if bool(replacement_dic) is False:\n",
    "#     pass\n",
    "# else:\n",
    "#     for key, value in replacement_dic.items():\n",
    "#         content_new = content_new.replace(key, value)\n",
    "# print(content_new)"
   ]
  }
 ],
 "metadata": {
  "kernelspec": {
   "display_name": "CTAT",
   "language": "python",
   "name": "python3"
  },
  "language_info": {
   "codemirror_mode": {
    "name": "ipython",
    "version": 3
   },
   "file_extension": ".py",
   "mimetype": "text/x-python",
   "name": "python",
   "nbconvert_exporter": "python",
   "pygments_lexer": "ipython3",
   "version": "3.10.8"
  },
  "orig_nbformat": 4,
  "vscode": {
   "interpreter": {
    "hash": "d5cbd4e664087b96353283f4ff050485ff797d3250d76f0a980158f1bcc99c02"
   }
  }
 },
 "nbformat": 4,
 "nbformat_minor": 2
}
