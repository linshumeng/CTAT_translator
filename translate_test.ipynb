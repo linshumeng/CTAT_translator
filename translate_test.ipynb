{
 "cells": [
  {
   "cell_type": "code",
   "execution_count": 1,
   "metadata": {},
   "outputs": [
    {
     "name": "stderr",
     "output_type": "stream",
     "text": [
      "Using state Pennsylvania server backend.\n"
     ]
    }
   ],
   "source": [
    "import re\n",
    "import translators.server as tss\n",
    "TARGET_LANG = 'es'"
   ]
  },
  {
   "cell_type": "code",
   "execution_count": 28,
   "metadata": {},
   "outputs": [],
   "source": [
    "# content_new = \"The ratio out of 100 is written as <%= 100/100*100 %>/100. Please express this value as a decimal.\"\n",
    "content_new = \"If you have already entered <%=fmtDecimal(totalRow([r1c1, r1c2, r1c3, r1c4]) / 1000, 3)%>. How many <%=cellLabel(\"\"ones\"\", \"\"tenths\"\", \"\"hundredths\"\", \"\"thousandths\"\", 2)%> should you enter to get <%=fmtDecimal(921 / 1000, 3)%>?\"\n",
    "# content_new = \"Try\"\n",
    "# out, fun, rep = find_founction(content_new)\n",
    "\n",
    "# replacement_sign = \"#*\"\n",
    "# replacement_dic = {}\n",
    "# pattern_function = \"<%(.*?)%>\"\n",
    "# # count the number of the replacement in one variable(content_new)\n",
    "# match_function = [match for match in re.findall(pattern_function, str(content_new))]\n",
    "# if match_function:\n",
    "#     for i in range(len(match_function)):\n",
    "#         function = \"<%\" + str(match_function[i]) + \"%>\"\n",
    "#         replacement = replacement_sign + str(i)\n",
    "#         replacement_dic[replacement] = function\n",
    "#         content_new = content_new.replace(function, replacement)\n",
    "# content_new, replacement_dic\n",
    "\n",
    "# for key, value in replacement_dic.items():\n",
    "#     content_new = content_new.replace(key, value)\n",
    "# content_new"
   ]
  },
  {
   "cell_type": "code",
   "execution_count": 29,
   "metadata": {},
   "outputs": [],
   "source": [
    "def find_founction(content_new, replacement=\"#*\"):\n",
    "    replacement_sign = \"#*\"\n",
    "    replacement_dic = {}\n",
    "    pattern_function = \"<%(.*?)%>\"\n",
    "    # count the number of the replacement in one variable(content_new)\n",
    "    match_function = [match for match in re.findall(pattern_function, str(content_new))]\n",
    "    if match_function:\n",
    "        for i in range(len(match_function)):\n",
    "            function = \"<%\" + str(match_function[i]) + \"%>\"\n",
    "            replacement = replacement_sign + str(i)\n",
    "            replacement_dic[replacement] = function\n",
    "            content_new = content_new.replace(function, replacement)\n",
    "    return content_new, replacement_dic"
   ]
  },
  {
   "cell_type": "code",
   "execution_count": 30,
   "metadata": {},
   "outputs": [
    {
     "name": "stdout",
     "output_type": "stream",
     "text": [
      "use google translation\n",
      "<%=fmtDecimal(921 / 1000, 3)%> {'#*0': '<%=fmtDecimal(totalRow([r1c1, r1c2, r1c3, r1c4]) / 1000, 3)%>', '#*1': '<%=cellLabel(ones, tenths, hundredths, thousandths, 2)%>', '#*2': '<%=fmtDecimal(921 / 1000, 3)%>'}\n",
      "[google]Si ya ha ingresado <%=fmtDecimal(totalRow([r1c1, r1c2, r1c3, r1c4]) / 1000, 3)%>. ¿Cuántos <%=cellLabel(ones, tenths, hundredths, thousandths, 2)%> debe ingresar para obtener <%=fmtDecimal(921 / 1000, 3)%>?\n"
     ]
    }
   ],
   "source": [
    "google_dict = {}\n",
    "print(\"use google translation\")\n",
    "try:\n",
    "    content_new, replacement_dic = find_founction(content_new) \n",
    "    translation = tss.google(content_new, from_language='en', to_language=TARGET_LANG)\n",
    "    print(function, replacement_dic)\n",
    "    if bool(replacement_dic) is False:\n",
    "        pass\n",
    "    else:\n",
    "        for key, value in replacement_dic.items():\n",
    "            translation = translation.replace(key, value)\n",
    "except:\n",
    "    translation = 'error'\n",
    "content_translated = '[google]' + translation\n",
    "content_translated_clean = translation\n",
    "print(content_translated)\n",
    "google_dict[content_new] = translation"
   ]
  },
  {
   "cell_type": "code",
   "execution_count": 10,
   "metadata": {},
   "outputs": [
    {
     "data": {
      "text/plain": [
       "'Intenta entrar @'"
      ]
     },
     "execution_count": 10,
     "metadata": {},
     "output_type": "execute_result"
    }
   ],
   "source": [
    "tss.google(\"Try entering @\", from_language='en', to_language=TARGET_LANG)"
   ]
  }
 ],
 "metadata": {
  "kernelspec": {
   "display_name": "CTAT",
   "language": "python",
   "name": "python3"
  },
  "language_info": {
   "codemirror_mode": {
    "name": "ipython",
    "version": 3
   },
   "file_extension": ".py",
   "mimetype": "text/x-python",
   "name": "python",
   "nbconvert_exporter": "python",
   "pygments_lexer": "ipython3",
   "version": "3.10.8"
  },
  "orig_nbformat": 4,
  "vscode": {
   "interpreter": {
    "hash": "d5cbd4e664087b96353283f4ff050485ff797d3250d76f0a980158f1bcc99c02"
   }
  }
 },
 "nbformat": 4,
 "nbformat_minor": 2
}
