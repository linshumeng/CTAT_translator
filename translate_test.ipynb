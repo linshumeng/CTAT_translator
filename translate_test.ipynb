{
 "cells": [
  {
   "cell_type": "code",
   "execution_count": 6,
   "metadata": {},
   "outputs": [],
   "source": [
    "import re\n",
    "import translators.server as tss\n",
    "TARGET_LANG = 'es'"
   ]
  },
  {
   "cell_type": "code",
   "execution_count": 7,
   "metadata": {},
   "outputs": [],
   "source": [
    "def find_founction(content_new, replacement=\"#*\"):\n",
    "    start_pattern = \"<%\"\n",
    "    start_index = [match.start() for match in re.finditer(start_pattern, str(content_new))]\n",
    "    end_pattern = \"%>\"\n",
    "    end_index = [match.start() for match in re.finditer(end_pattern, str(content_new))]\n",
    "    if start_index and end_index:\n",
    "        function = content_new[start_index[0]: end_index[-1]+2]\n",
    "        content_out = content_new.replace(function, replacement)\n",
    "    else:\n",
    "        function = None\n",
    "        content_out = content_new\n",
    "    return content_out, function, replacement"
   ]
  },
  {
   "cell_type": "code",
   "execution_count": 8,
   "metadata": {},
   "outputs": [],
   "source": [
    "content_new = \"The ratio out of 100 is written as <%= 100/100*100 %>/100. Please express this value as a decimal.\"\n",
    "# content_new = \"Try\"\n",
    "# out, fun, rep = find_founction(content_new)"
   ]
  },
  {
   "cell_type": "code",
   "execution_count": 9,
   "metadata": {},
   "outputs": [
    {
     "name": "stdout",
     "output_type": "stream",
     "text": [
      "use google translation\n",
      "<%= 100/100*100 %> #*\n",
      "La relación de 100 está escrita como <%= 100/100*100 %>/100. Exprese este valor como decimal.\n"
     ]
    }
   ],
   "source": [
    "google_dict = {}\n",
    "print(\"use google translation\")\n",
    "try:\n",
    "    content_new, function, replacement = find_founction(content_new) \n",
    "    translation = tss.google(content_new, from_language='en', to_language=TARGET_LANG)\n",
    "    print(function, replacement)\n",
    "    if function is None:\n",
    "        pass\n",
    "    else:\n",
    "        translation = translation.replace(replacement, function)\n",
    "except:\n",
    "    translation = 'error'\n",
    "content_translated = '[google]' + translation\n",
    "content_translated_clean = translation\n",
    "print(content_translated)\n",
    "google_dict[content_new] = translation"
   ]
  },
  {
   "cell_type": "code",
   "execution_count": 10,
   "metadata": {},
   "outputs": [
    {
     "data": {
      "text/plain": [
       "'Intenta entrar @'"
      ]
     },
     "execution_count": 10,
     "metadata": {},
     "output_type": "execute_result"
    }
   ],
   "source": [
    "tss.google(\"Try entering @\", from_language='en', to_language=TARGET_LANG)"
   ]
  }
 ],
 "metadata": {
  "kernelspec": {
   "display_name": "CTAT",
   "language": "python",
   "name": "python3"
  },
  "language_info": {
   "codemirror_mode": {
    "name": "ipython",
    "version": 3
   },
   "file_extension": ".py",
   "mimetype": "text/x-python",
   "name": "python",
   "nbconvert_exporter": "python",
   "pygments_lexer": "ipython3",
   "version": "3.10.8"
  },
  "orig_nbformat": 4,
  "vscode": {
   "interpreter": {
    "hash": "d5cbd4e664087b96353283f4ff050485ff797d3250d76f0a980158f1bcc99c02"
   }
  }
 },
 "nbformat": 4,
 "nbformat_minor": 2
}
