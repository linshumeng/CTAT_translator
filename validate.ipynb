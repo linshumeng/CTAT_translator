{
 "cells": [
  {
   "cell_type": "code",
   "execution_count": 21,
   "metadata": {},
   "outputs": [],
   "source": [
    "import xml.etree.ElementTree as ET\n",
    "import glob\n",
    "from tqdm import tqdm\n",
    "from lxml import etree\n",
    "from xmldiff import main, formatting\n",
    "import difflib"
   ]
  },
  {
   "cell_type": "code",
   "execution_count": 22,
   "metadata": {},
   "outputs": [],
   "source": [
    "# # use ET.parse to validate\n",
    "# def check(old_brd, new_brd):\n",
    "#     old = ET.parse(old_brd)\n",
    "#     new = ET.parse(new_brd)\n",
    "#     set_old, set_new = set(), set()\n",
    "#     old_text = old.getroot()\n",
    "#     new_text = new.getroot()\n",
    "#     tags = ['hintMessage', 'successMessage', 'buggyMessage', 'label', 'Input']\n",
    "#     for tag in tags:\n",
    "#         for element in old_text.iter(tag):\n",
    "#             if tag == 'Input':\n",
    "#                 set_old.add(element[0].text)\n",
    "#             else:\n",
    "#                 set_old.add(element.text)\n",
    "#         for element in new_text.iter(tag):\n",
    "#             if tag == 'Input':\n",
    "#                 set_new.add(element[0].text)\n",
    "#             else:\n",
    "#                 set_new.add(element.text)\n",
    "#     if set_old == set_new:\n",
    "#         res = \"True\"\n",
    "#     else:\n",
    "#         res = \"False\"\n",
    "#     return set_old, set_new, res"
   ]
  },
  {
   "cell_type": "code",
   "execution_count": 23,
   "metadata": {},
   "outputs": [],
   "source": [
    "# use ET.parse to validate\n",
    "def check(old_brd, new_brd):\n",
    "    old = ET.parse(old_brd)\n",
    "    new = ET.parse(new_brd)\n",
    "    old_text = old.getroot().itertext()\n",
    "    new_text = new.getroot().itertext()\n",
    "    # old_str = ''.join(old_text)\n",
    "    set_old = set(old_text)\n",
    "    set_new = set(new_text)\n",
    "    # # print(set_new)\n",
    "    if set_old == set_new:\n",
    "        res = \"True\"\n",
    "    else:\n",
    "        res = \"False\"\n",
    "    return set_old, set_new, res"
   ]
  },
  {
   "cell_type": "code",
   "execution_count": 24,
   "metadata": {},
   "outputs": [],
   "source": [
    "# use xmldiff to validate\n",
    "def check_xmldiff(old_brd, new_brd):\n",
    "    diff = main.diff_files(old_brd, new_brd)\n",
    "    if len(diff) == 0:\n",
    "        res = \"True\"\n",
    "    else:\n",
    "        res = \"False\"\n",
    "    return diff, res"
   ]
  },
  {
   "cell_type": "code",
   "execution_count": 25,
   "metadata": {},
   "outputs": [],
   "source": [
    "# fs_brd = glob.glob(\"./HTML_folder/7.17 HTML/7.17 HTML/FinalBRDs/*\")\n",
    "fs_brd = glob.glob(\"./HTML_folder/6.05 HTML/6.05 HTML/FinalBRDs/*\")"
   ]
  },
  {
   "cell_type": "code",
   "execution_count": 26,
   "metadata": {},
   "outputs": [],
   "source": [
    "# # path for clean\n",
    "# for old_brd in tqdm(fs_brd):\n",
    "#     try:\n",
    "#         new_brd = old_brd.replace('HTML_folder', 'Output_final_brd_folder')\n",
    "#         _, _, res_tree = check(old_brd, new_brd)\n",
    "#         _, res_diff = check_xmldiff(old_brd, new_brd)\n",
    "#         print(old_brd.split(\"\\\\\", 1)[-1], res_tree, res_diff)\n",
    "#     except:\n",
    "#         new_brd = old_brd.replace('HTML_folder', 'Output_final_brd_folder').replace('Problem', '')\n",
    "#         _, _, res_tree = check(old_brd, new_brd)\n",
    "#         _, res_diff = check_xmldiff(old_brd, new_brd)\n",
    "#         print(old_brd.split(\"\\\\\", 1)[-1], res_tree, res_diff)\n",
    "#     # print(old_brd, new_brd)"
   ]
  },
  {
   "cell_type": "code",
   "execution_count": 27,
   "metadata": {},
   "outputs": [
    {
     "name": "stderr",
     "output_type": "stream",
     "text": [
      " 12%|█▎        | 1/8 [00:00<00:03,  2.29it/s]"
     ]
    },
    {
     "name": "stdout",
     "output_type": "stream",
     "text": [
      "1 1.brd True True\n"
     ]
    },
    {
     "name": "stderr",
     "output_type": "stream",
     "text": [
      " 25%|██▌       | 2/8 [00:00<00:02,  2.65it/s]"
     ]
    },
    {
     "name": "stdout",
     "output_type": "stream",
     "text": [
      "1 2.brd True True\n"
     ]
    },
    {
     "name": "stderr",
     "output_type": "stream",
     "text": [
      " 38%|███▊      | 3/8 [00:01<00:01,  2.92it/s]"
     ]
    },
    {
     "name": "stdout",
     "output_type": "stream",
     "text": [
      "1 3.brd True True\n"
     ]
    },
    {
     "name": "stderr",
     "output_type": "stream",
     "text": [
      " 50%|█████     | 4/8 [00:01<00:01,  3.10it/s]"
     ]
    },
    {
     "name": "stdout",
     "output_type": "stream",
     "text": [
      "1 4.brd True True\n"
     ]
    },
    {
     "name": "stderr",
     "output_type": "stream",
     "text": [
      " 62%|██████▎   | 5/8 [00:01<00:00,  3.20it/s]"
     ]
    },
    {
     "name": "stdout",
     "output_type": "stream",
     "text": [
      "1 5.brd True True\n"
     ]
    },
    {
     "name": "stderr",
     "output_type": "stream",
     "text": [
      " 75%|███████▌  | 6/8 [00:02<00:00,  2.92it/s]"
     ]
    },
    {
     "name": "stdout",
     "output_type": "stream",
     "text": [
      "1 6.brd True True\n"
     ]
    },
    {
     "name": "stderr",
     "output_type": "stream",
     "text": [
      " 88%|████████▊ | 7/8 [00:02<00:00,  2.68it/s]"
     ]
    },
    {
     "name": "stdout",
     "output_type": "stream",
     "text": [
      "1 7.brd True True\n"
     ]
    },
    {
     "name": "stderr",
     "output_type": "stream",
     "text": [
      "100%|██████████| 8/8 [00:02<00:00,  2.91it/s]"
     ]
    },
    {
     "name": "stdout",
     "output_type": "stream",
     "text": [
      "1 8.brd True True\n"
     ]
    },
    {
     "name": "stderr",
     "output_type": "stream",
     "text": [
      "\n"
     ]
    }
   ],
   "source": [
    "# path for translate\n",
    "for old_brd in tqdm(fs_brd):\n",
    "    try:\n",
    "        new_brd = old_brd.replace('HTML_folder', 'Output_translated_folder')\n",
    "        _, _, res_tree = check(old_brd, new_brd)\n",
    "        _, res_diff = check_xmldiff(old_brd, new_brd)\n",
    "        print(1, old_brd.split(\"\\\\\", 1)[-1], res_tree, res_diff)\n",
    "    except:\n",
    "        try:\n",
    "            new_brd = old_brd.replace('HTML_folder', 'Output_translated_folder').replace('Problem', '')    \n",
    "            _, _, res_tree = check(old_brd, new_brd)\n",
    "            _, res_diff = check_xmldiff(old_brd, new_brd)\n",
    "            print(2, old_brd.split(\"\\\\\", 1)[-1], res_tree, res_diff)\n",
    "        except:\n",
    "            new_brd = old_brd.replace('HTML_folder', 'Output_translated_folder').replace(old_brd.split(\"\\\\\", 1)[-1], \"Problem\"+old_brd.split(\"\\\\\", 1)[-1])\n",
    "            _, _, res_tree = check(old_brd, new_brd)\n",
    "            _, res_diff = check_xmldiff(old_brd, new_brd)\n",
    "            print(3, old_brd.split(\"\\\\\", 1)[-1], res_tree, res_diff)\n",
    "            print(old_brd, new_brd)\n",
    "    # print(new_brd)\n",
    "        else:\n",
    "            print(4, old_brd.split(\"\\\\\", 1)[-1], \" cannot find reference\")\n",
    "            continue\n",
    "        # print(old_brd.split(\"\\\\\", 1)[-1], res_tree)\n",
    "    # print(old_brd, new_brd)"
   ]
  },
  {
   "cell_type": "code",
   "execution_count": 28,
   "metadata": {},
   "outputs": [
    {
     "data": {
      "text/plain": [
       "set()"
      ]
     },
     "execution_count": 28,
     "metadata": {},
     "output_type": "execute_result"
    }
   ],
   "source": [
    "# one way to see the difference\n",
    "# old, new, res = check(\"./HTML_folder/7.17 HTML/7.17 HTML/FinalBRDs\\Problem23.brd\",\n",
    "#                  \"./Output_final_brd_folder/7.17 HTML/7.17 HTML/FinalBRDs\\Problem23.brd\")\n",
    "old, new, res = check(\"./HTML_folder/6.05 HTML/6.05 HTML/FinalBRDs/1.brd\",\n",
    "                #  \"./Output_final_brd_folder/6.05 HTML/6.05 HTML/FinalBRDs/1.brd\")\n",
    "                \"./Output_translated_folder/6.05 HTML/6.05 HTML/FinalBRDs/1.brd\")\n",
    "\n",
    "diff = new.difference(old)\n",
    "diff"
   ]
  },
  {
   "cell_type": "code",
   "execution_count": 29,
   "metadata": {},
   "outputs": [
    {
     "data": {
      "text/plain": [
       "[]"
      ]
     },
     "execution_count": 29,
     "metadata": {},
     "output_type": "execute_result"
    }
   ],
   "source": [
    "diff, _ = check_xmldiff(\"./HTML_folder/6.05 HTML/6.05 HTML/FinalBRDs/1.brd\",\n",
    "                #  \"./Output_final_brd_folder/6.05 HTML/6.05 HTML/FinalBRDs/1.brd\")\n",
    "                \"./Output_translated_folder/6.05 HTML/6.05 HTML/FinalBRDs/1.brd\")\n",
    "diff"
   ]
  },
  {
   "cell_type": "code",
   "execution_count": null,
   "metadata": {},
   "outputs": [],
   "source": []
  }
 ],
 "metadata": {
  "kernelspec": {
   "display_name": "CTAT",
   "language": "python",
   "name": "python3"
  },
  "language_info": {
   "codemirror_mode": {
    "name": "ipython",
    "version": 3
   },
   "file_extension": ".py",
   "mimetype": "text/x-python",
   "name": "python",
   "nbconvert_exporter": "python",
   "pygments_lexer": "ipython3",
   "version": "3.10.8"
  },
  "orig_nbformat": 4,
  "vscode": {
   "interpreter": {
    "hash": "d5cbd4e664087b96353283f4ff050485ff797d3250d76f0a980158f1bcc99c02"
   }
  }
 },
 "nbformat": 4,
 "nbformat_minor": 2
}
