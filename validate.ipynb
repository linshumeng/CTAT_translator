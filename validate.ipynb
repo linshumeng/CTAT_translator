{
 "cells": [
  {
   "cell_type": "code",
   "execution_count": 36,
   "metadata": {},
   "outputs": [],
   "source": [
    "import xml.etree.ElementTree as ET\n",
    "import glob\n",
    "from tqdm import tqdm\n",
    "from xmldiff import main\n",
    "import os"
   ]
  },
  {
   "cell_type": "code",
   "execution_count": 37,
   "metadata": {},
   "outputs": [],
   "source": [
    "# # use ET.parse to validate\n",
    "# def check(old_brd, new_brd):\n",
    "#     old = ET.parse(old_brd)\n",
    "#     new = ET.parse(new_brd)\n",
    "#     set_old, set_new = set(), set()\n",
    "#     old_text = old.getroot()\n",
    "#     new_text = new.getroot()\n",
    "#     tags = ['hintMessage', 'successMessage', 'buggyMessage', 'label', 'Input']\n",
    "#     for tag in tags:\n",
    "#         for element in old_text.iter(tag):\n",
    "#             if tag == 'Input':\n",
    "#                 set_old.add(element[0].text)\n",
    "#             else:\n",
    "#                 set_old.add(element.text)\n",
    "#         for element in new_text.iter(tag):\n",
    "#             if tag == 'Input':\n",
    "#                 set_new.add(element[0].text)\n",
    "#             else:\n",
    "#                 set_new.add(element.text)\n",
    "#     if set_old == set_new:\n",
    "#         res = \"True\"\n",
    "#     else:\n",
    "#         res = \"False\"\n",
    "#     return set_old, set_new, res"
   ]
  },
  {
   "cell_type": "code",
   "execution_count": 38,
   "metadata": {},
   "outputs": [],
   "source": [
    "# use ET.parse to validate\n",
    "def check(old_brd, new_brd):\n",
    "    old = ET.parse(old_brd)\n",
    "    new = ET.parse(new_brd)\n",
    "    old_text = old.getroot().itertext()\n",
    "    new_text = new.getroot().itertext()\n",
    "    # old_str = ''.join(old_text)\n",
    "    set_old = set(old_text)\n",
    "    set_new = set(new_text)\n",
    "    # # print(set_new)\n",
    "    if set_old == set_new:\n",
    "        res = \"True\"\n",
    "    else:\n",
    "        res = \"False\"\n",
    "    return set_old, set_new, res"
   ]
  },
  {
   "cell_type": "code",
   "execution_count": 39,
   "metadata": {},
   "outputs": [],
   "source": [
    "# use xmldiff to validate\n",
    "def check_xmldiff(old_brd, new_brd):\n",
    "    diff = main.diff_files(old_brd, new_brd)\n",
    "    if len(diff) == 0:\n",
    "        res = \"True\"\n",
    "    else:\n",
    "        res = \"False\"\n",
    "    return diff, res"
   ]
  },
  {
   "cell_type": "code",
   "execution_count": 40,
   "metadata": {},
   "outputs": [],
   "source": [
    "# old_folder = \"./HTML_folder/6.05 HTML/6.05 HTML/FinalBRDs/\"\n",
    "# new_folder = \"./Output_translated_folder/6.05 HTML/6.05 HTML/FinalBRDs/\"\n",
    "old_folder = \"./HTML_folder/7.17 HTML/7.17 HTML/FinalBRDs/\"\n",
    "new_folder = \"./Output_translated_folder/7.17 HTML/7.17 HTML/FinalBRDs/\"\n",
    "fs_brd = glob.glob(old_folder + \"*\")"
   ]
  },
  {
   "cell_type": "code",
   "execution_count": 46,
   "metadata": {},
   "outputs": [],
   "source": [
    "# for old_brd in tqdm(fs_brd):\n",
    "#     new_brd = new_folder + old_brd.split(\"\\\\\", 1)[-1]\n",
    "#     if os.path.exists(new_brd):\n",
    "#         new_brd = new_brd\n",
    "#     elif os.path.exists(new_brd.replace('Problem', '')):\n",
    "#         new_brd = new_brd.replace('Problem', '')\n",
    "#     elif os.path.exists(new_brd.replace(old_brd.split(\"\\\\\", 1)[-1], \"Problem\"+old_brd.split(\"\\\\\", 1)[-1])):\n",
    "#         new_brd = new_brd.replace(old_brd.split(\"\\\\\", 1)[-1], \"Problem\"+old_brd.split(\"\\\\\", 1)[-1])\n",
    "#     else:\n",
    "#         print(old_brd.split(\"\\\\\", 1)[-1], \" cannot find reference\")\n",
    "#         continue\n",
    "#     _, _, res_tree = check(old_brd, new_brd)\n",
    "#     _, res_diff = check_xmldiff(old_brd, new_brd)\n",
    "#     print(old_brd.split(\"\\\\\", 1)[-1], res_tree, res_diff)"
   ]
  },
  {
   "cell_type": "code",
   "execution_count": 42,
   "metadata": {},
   "outputs": [
    {
     "name": "stderr",
     "output_type": "stream",
     "text": [
      "  4%|▍         | 1/24 [00:00<00:10,  2.15it/s]"
     ]
    },
    {
     "name": "stdout",
     "output_type": "stream",
     "text": [
      "1 IntroProblem.brd True True\n"
     ]
    },
    {
     "name": "stderr",
     "output_type": "stream",
     "text": [
      "  8%|▊         | 2/24 [00:00<00:10,  2.18it/s]"
     ]
    },
    {
     "name": "stdout",
     "output_type": "stream",
     "text": [
      "1 Problem1.brd True True\n"
     ]
    },
    {
     "name": "stderr",
     "output_type": "stream",
     "text": [
      " 12%|█▎        | 3/24 [00:01<00:09,  2.20it/s]"
     ]
    },
    {
     "name": "stdout",
     "output_type": "stream",
     "text": [
      "1 Problem2.brd True True\n"
     ]
    },
    {
     "name": "stderr",
     "output_type": "stream",
     "text": [
      " 17%|█▋        | 4/24 [00:01<00:08,  2.28it/s]"
     ]
    },
    {
     "name": "stdout",
     "output_type": "stream",
     "text": [
      "1 Problem3.brd True True\n"
     ]
    },
    {
     "name": "stderr",
     "output_type": "stream",
     "text": [
      " 21%|██        | 5/24 [00:02<00:08,  2.30it/s]"
     ]
    },
    {
     "name": "stdout",
     "output_type": "stream",
     "text": [
      "1 Problem5.brd True True\n"
     ]
    },
    {
     "name": "stderr",
     "output_type": "stream",
     "text": [
      " 25%|██▌       | 6/24 [00:02<00:07,  2.39it/s]"
     ]
    },
    {
     "name": "stdout",
     "output_type": "stream",
     "text": [
      "1 Problem6.brd True True\n"
     ]
    },
    {
     "name": "stderr",
     "output_type": "stream",
     "text": [
      " 29%|██▉       | 7/24 [00:03<00:07,  2.41it/s]"
     ]
    },
    {
     "name": "stdout",
     "output_type": "stream",
     "text": [
      "1 Problem7.brd True True\n"
     ]
    },
    {
     "name": "stderr",
     "output_type": "stream",
     "text": [
      " 33%|███▎      | 8/24 [00:03<00:06,  2.46it/s]"
     ]
    },
    {
     "name": "stdout",
     "output_type": "stream",
     "text": [
      "1 Problem9.brd True True\n"
     ]
    },
    {
     "name": "stderr",
     "output_type": "stream",
     "text": [
      " 38%|███▊      | 9/24 [00:03<00:05,  2.50it/s]"
     ]
    },
    {
     "name": "stdout",
     "output_type": "stream",
     "text": [
      "1 Problem10.brd True True\n"
     ]
    },
    {
     "name": "stderr",
     "output_type": "stream",
     "text": [
      " 42%|████▏     | 10/24 [00:04<00:05,  2.54it/s]"
     ]
    },
    {
     "name": "stdout",
     "output_type": "stream",
     "text": [
      "1 Problem11.brd True True\n"
     ]
    },
    {
     "name": "stderr",
     "output_type": "stream",
     "text": [
      " 46%|████▌     | 11/24 [00:04<00:05,  2.33it/s]"
     ]
    },
    {
     "name": "stdout",
     "output_type": "stream",
     "text": [
      "1 Problem12.brd True True\n"
     ]
    },
    {
     "name": "stderr",
     "output_type": "stream",
     "text": [
      " 50%|█████     | 12/24 [00:05<00:04,  2.43it/s]"
     ]
    },
    {
     "name": "stdout",
     "output_type": "stream",
     "text": [
      "1 Problem13.brd True True\n"
     ]
    },
    {
     "name": "stderr",
     "output_type": "stream",
     "text": [
      " 54%|█████▍    | 13/24 [00:05<00:04,  2.47it/s]"
     ]
    },
    {
     "name": "stdout",
     "output_type": "stream",
     "text": [
      "1 Problem14.brd True True\n"
     ]
    },
    {
     "name": "stderr",
     "output_type": "stream",
     "text": [
      " 58%|█████▊    | 14/24 [00:05<00:04,  2.33it/s]"
     ]
    },
    {
     "name": "stdout",
     "output_type": "stream",
     "text": [
      "1 Problem15.brd True True\n"
     ]
    },
    {
     "name": "stderr",
     "output_type": "stream",
     "text": [
      " 62%|██████▎   | 15/24 [00:06<00:03,  2.47it/s]"
     ]
    },
    {
     "name": "stdout",
     "output_type": "stream",
     "text": [
      "1 Problem16.brd True True\n"
     ]
    },
    {
     "name": "stderr",
     "output_type": "stream",
     "text": [
      " 67%|██████▋   | 16/24 [00:06<00:03,  2.50it/s]"
     ]
    },
    {
     "name": "stdout",
     "output_type": "stream",
     "text": [
      "1 Problem17.brd True True\n"
     ]
    },
    {
     "name": "stderr",
     "output_type": "stream",
     "text": [
      " 71%|███████   | 17/24 [00:07<00:02,  2.41it/s]"
     ]
    },
    {
     "name": "stdout",
     "output_type": "stream",
     "text": [
      "1 Problem18.brd True True\n"
     ]
    },
    {
     "name": "stderr",
     "output_type": "stream",
     "text": [
      " 75%|███████▌  | 18/24 [00:07<00:02,  2.50it/s]"
     ]
    },
    {
     "name": "stdout",
     "output_type": "stream",
     "text": [
      "1 Problem19.brd True True\n"
     ]
    },
    {
     "name": "stderr",
     "output_type": "stream",
     "text": [
      " 79%|███████▉  | 19/24 [00:07<00:01,  2.61it/s]"
     ]
    },
    {
     "name": "stdout",
     "output_type": "stream",
     "text": [
      "1 Problem20.brd True True\n"
     ]
    },
    {
     "name": "stderr",
     "output_type": "stream",
     "text": [
      " 83%|████████▎ | 20/24 [00:08<00:01,  2.55it/s]"
     ]
    },
    {
     "name": "stdout",
     "output_type": "stream",
     "text": [
      "1 Problem21.brd True True\n"
     ]
    },
    {
     "name": "stderr",
     "output_type": "stream",
     "text": [
      " 88%|████████▊ | 21/24 [00:08<00:01,  2.48it/s]"
     ]
    },
    {
     "name": "stdout",
     "output_type": "stream",
     "text": [
      "1 Problem22.brd True True\n"
     ]
    },
    {
     "name": "stderr",
     "output_type": "stream",
     "text": [
      " 92%|█████████▏| 22/24 [00:09<00:00,  2.55it/s]"
     ]
    },
    {
     "name": "stdout",
     "output_type": "stream",
     "text": [
      "1 Problem23.brd True True\n"
     ]
    },
    {
     "name": "stderr",
     "output_type": "stream",
     "text": [
      " 96%|█████████▌| 23/24 [00:09<00:00,  2.40it/s]"
     ]
    },
    {
     "name": "stdout",
     "output_type": "stream",
     "text": [
      "1 Problem24.brd True True\n"
     ]
    },
    {
     "name": "stderr",
     "output_type": "stream",
     "text": [
      "100%|██████████| 24/24 [00:09<00:00,  2.40it/s]"
     ]
    },
    {
     "name": "stdout",
     "output_type": "stream",
     "text": [
      "1 Problem8.brd True True\n"
     ]
    },
    {
     "name": "stderr",
     "output_type": "stream",
     "text": [
      "\n"
     ]
    }
   ],
   "source": [
    "# path for translate\n",
    "for old_brd in tqdm(fs_brd):\n",
    "    new_brd = new_folder + old_brd.split(\"\\\\\", 1)[-1]\n",
    "    try:\n",
    "        new_brd = new_brd\n",
    "        _, _, res_tree = check(old_brd, new_brd)\n",
    "        _, res_diff = check_xmldiff(old_brd, new_brd)\n",
    "        print(1, old_brd.split(\"\\\\\", 1)[-1], res_tree, res_diff)\n",
    "    except:\n",
    "        try:\n",
    "            new_brd = new_brd.replace('Problem', '')    \n",
    "            _, _, res_tree = check(old_brd, new_brd)\n",
    "            _, res_diff = check_xmldiff(old_brd, new_brd)\n",
    "            print(2, old_brd.split(\"\\\\\", 1)[-1], res_tree, res_diff)\n",
    "        except:\n",
    "            new_brd = new_brd.replace(old_brd.split(\"\\\\\", 1)[-1], \"Problem\"+old_brd.split(\"\\\\\", 1)[-1])\n",
    "            _, _, res_tree = check(old_brd, new_brd)\n",
    "            _, res_diff = check_xmldiff(old_brd, new_brd)\n",
    "            print(3, old_brd.split(\"\\\\\", 1)[-1], res_tree, res_diff)\n",
    "            print(old_brd, new_brd)\n",
    "    # print(new_brd)\n",
    "        else:\n",
    "            print(4, old_brd.split(\"\\\\\", 1)[-1], \" cannot find reference\")\n",
    "            continue\n",
    "        # print(old_brd.split(\"\\\\\", 1)[-1], res_tree)\n",
    "    # print(old_brd, new_brd)"
   ]
  },
  {
   "cell_type": "code",
   "execution_count": 43,
   "metadata": {},
   "outputs": [],
   "source": [
    "# old_folder = \"./HTML_folder/6.05 HTML/6.05 HTML/FinalBRDs/\"\n",
    "# new_folder = \"./Output_translated_folder/6.05 HTML/6.05 HTML/FinalBRDs/\"\n",
    "# fs_brd = glob.glob(old_folder + \"*\")\n",
    "\n",
    "# for old_brd in tqdm(fs_brd):\n",
    "#         # new_brd = old_brd.replace('HTML_folder', 'Output_translated_folder').replace(old_brd.split(\"\\\\\", 1)[-1], \"Problem\"+old_brd.split(\"\\\\\", 1)[-1])\n",
    "#         # new_brd = old_brd.replace('HTML_folder', 'Output_translated_folder').replace('Problem', '')\n",
    "#         # print(new_brd)\n",
    "#         print(old_brd.split(\"\\\\\", 1)[-1])\n",
    "#         new_brd = new_folder + old_brd.split(\"\\\\\", 1)[-1]\n",
    "#         new_brd.replace(old_brd.split(\"\\\\\", 1)[-1], \"Problem\"+old_brd.split(\"\\\\\", 1)[-1])\n",
    "#         print(new_brd)"
   ]
  },
  {
   "cell_type": "code",
   "execution_count": 44,
   "metadata": {},
   "outputs": [],
   "source": [
    "# # one way to see the difference\n",
    "# # old, new, res = check(\"./HTML_folder/7.17 HTML/7.17 HTML/FinalBRDs\\Problem23.brd\",\n",
    "# #                  \"./Output_final_brd_folder/7.17 HTML/7.17 HTML/FinalBRDs\\Problem23.brd\")\n",
    "# old, new, res = check(\"./HTML_folder/6.05 HTML/6.05 HTML/FinalBRDs/1.brd\",\n",
    "#                 #  \"./Output_final_brd_folder/6.05 HTML/6.05 HTML/FinalBRDs/1.brd\")\n",
    "#                 \"./Output_translated_folder/6.05 HTML/6.05 HTML/FinalBRDs/1.brd\")\n",
    "\n",
    "# diff = new.difference(old)\n",
    "# diff\n",
    "\n",
    "# diff, _ = check_xmldiff(\"./HTML_folder/6.05 HTML/6.05 HTML/FinalBRDs/1.brd\",\n",
    "#                 #  \"./Output_final_brd_folder/6.05 HTML/6.05 HTML/FinalBRDs/1.brd\")\n",
    "#                 \"./Output_translated_folder/6.05 HTML/6.05 HTML/FinalBRDs/1.brd\")\n",
    "# diff"
   ]
  }
 ],
 "metadata": {
  "kernelspec": {
   "display_name": "CTAT",
   "language": "python",
   "name": "python3"
  },
  "language_info": {
   "codemirror_mode": {
    "name": "ipython",
    "version": 3
   },
   "file_extension": ".py",
   "mimetype": "text/x-python",
   "name": "python",
   "nbconvert_exporter": "python",
   "pygments_lexer": "ipython3",
   "version": "3.10.8"
  },
  "orig_nbformat": 4,
  "vscode": {
   "interpreter": {
    "hash": "d5cbd4e664087b96353283f4ff050485ff797d3250d76f0a980158f1bcc99c02"
   }
  }
 },
 "nbformat": 4,
 "nbformat_minor": 2
}
