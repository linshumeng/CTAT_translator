{
 "cells": [
  {
   "cell_type": "code",
   "execution_count": 6,
   "metadata": {},
   "outputs": [],
   "source": [
    "import xml.etree.ElementTree as ET\n",
    "import glob\n",
    "from tqdm import tqdm\n",
    "from lxml import etree\n",
    "from xmldiff import main, formatting\n",
    "import difflib"
   ]
  },
  {
   "cell_type": "code",
   "execution_count": 7,
   "metadata": {},
   "outputs": [],
   "source": [
    "old_brd = './HTML_folder/6.05 HTML/6.05 HTML/FinalBRDs/1.brd'\n",
    "# old = ET.parse(old_brd)\n",
    "new_brd = './Output_cleaned_folder/6.05 HTML/6.05 HTML/FinalBRDs/1.brd'\n",
    "# new = ET.parse(new_brd)"
   ]
  },
  {
   "cell_type": "code",
   "execution_count": 8,
   "metadata": {},
   "outputs": [],
   "source": [
    "# string_1 = \"<hintMessage>Try entering &lt;%=divEvaluate(fractionMake(100,100))%&gt;.</hintMessage>\"\n",
    "# ET.fromstring(string_1)\n",
    "# string_2 = \"            <hintMessage>Try entering <%=divEvaluate(fractionMake(100,100))%>.</hintMessage>\"\n",
    "# string_2 = string_2.replace(\"<%\", \"&lt;%\").replace(\"%>\", \"&gt;%\")\n",
    "# # print(string_2)\n",
    "# ET.fromstring(string_2)"
   ]
  },
  {
   "cell_type": "code",
   "execution_count": 9,
   "metadata": {},
   "outputs": [],
   "source": [
    "def check(old_brd, new_brd):\n",
    "    old = ET.parse(old_brd)\n",
    "    new = ET.parse(new_brd)\n",
    "    old_text = old.getroot().itertext()\n",
    "    new_text = new.getroot().itertext()\n",
    "    # old_str = ''.join(old_text)\n",
    "    set_old = set(old_text)\n",
    "    set_new = set(new_text)\n",
    "    # # print(set_new)\n",
    "    if set_old == set_new:\n",
    "        res = \"True\"\n",
    "    else:\n",
    "        res = \"False\"\n",
    "    return set_old, set_new, res"
   ]
  },
  {
   "cell_type": "code",
   "execution_count": 11,
   "metadata": {},
   "outputs": [],
   "source": [
    "def check_xmldiff(old_brd, new_brd):\n",
    "    diff = main.diff_files(old_brd, new_brd)\n",
    "    if len(diff) == 0:\n",
    "        res = \"True\"\n",
    "    else:\n",
    "        res = \"False\"\n",
    "    return diff, res"
   ]
  },
  {
   "cell_type": "code",
   "execution_count": 14,
   "metadata": {},
   "outputs": [
    {
     "data": {
      "text/plain": [
       "[]"
      ]
     },
     "execution_count": 14,
     "metadata": {},
     "output_type": "execute_result"
    }
   ],
   "source": [
    "old, new, res = check(old_brd, new_brd)\n",
    "\n",
    "diff = new.difference(old)\n",
    "\n",
    "diff, res = check_xmldiff(old_brd, new_brd)\n",
    "diff"
   ]
  }
 ],
 "metadata": {
  "kernelspec": {
   "display_name": "CTAT",
   "language": "python",
   "name": "python3"
  },
  "language_info": {
   "codemirror_mode": {
    "name": "ipython",
    "version": 3
   },
   "file_extension": ".py",
   "mimetype": "text/x-python",
   "name": "python",
   "nbconvert_exporter": "python",
   "pygments_lexer": "ipython3",
   "version": "3.10.8"
  },
  "orig_nbformat": 4,
  "vscode": {
   "interpreter": {
    "hash": "d5cbd4e664087b96353283f4ff050485ff797d3250d76f0a980158f1bcc99c02"
   }
  }
 },
 "nbformat": 4,
 "nbformat_minor": 2
}
